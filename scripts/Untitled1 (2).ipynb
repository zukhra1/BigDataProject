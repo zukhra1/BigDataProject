{
 "cells": [
  {
   "cell_type": "code",
   "execution_count": 1,
   "id": "b1f05bf2-24cc-41e7-8704-5878d2b3cc6d",
   "metadata": {},
   "outputs": [
    {
     "ename": "Py4JJavaError",
     "evalue": "An error occurred while calling None.org.apache.spark.api.java.JavaSparkContext.\n: org.apache.spark.SparkException: Application application_1715165960394_0076 failed 2 times due to AM Container for appattempt_1715165960394_0076_000002 exited with  exitCode: 1\nFailing this attempt.Diagnostics: [2024-05-08 14:25:30.258]Exception from container-launch.\nContainer id: container_e31_1715165960394_0076_02_000001\nExit code: 1\n\n[2024-05-08 14:25:30.259]Container exited with a non-zero exit code 1. Error file: prelaunch.err.\nLast 4096 bytes of prelaunch.err :\nLast 4096 bytes of stderr :\nException in thread \"main\" java.lang.NoClassDefFoundError: org/apache/hadoop/conf/Configuration\n\tat org.apache.spark.deploy.yarn.ExecutorLauncher$.main(ApplicationMaster.scala:957)\n\tat org.apache.spark.deploy.yarn.ExecutorLauncher.main(ApplicationMaster.scala)\nCaused by: java.lang.ClassNotFoundException: org.apache.hadoop.conf.Configuration\n\tat java.net.URLClassLoader.findClass(URLClassLoader.java:387)\n\tat java.lang.ClassLoader.loadClass(ClassLoader.java:418)\n\tat sun.misc.Launcher$AppClassLoader.loadClass(Launcher.java:352)\n\tat java.lang.ClassLoader.loadClass(ClassLoader.java:351)\n\t... 2 more\n\n\n[2024-05-08 14:25:30.260]Container exited with a non-zero exit code 1. Error file: prelaunch.err.\nLast 4096 bytes of prelaunch.err :\nLast 4096 bytes of stderr :\nException in thread \"main\" java.lang.NoClassDefFoundError: org/apache/hadoop/conf/Configuration\n\tat org.apache.spark.deploy.yarn.ExecutorLauncher$.main(ApplicationMaster.scala:957)\n\tat org.apache.spark.deploy.yarn.ExecutorLauncher.main(ApplicationMaster.scala)\nCaused by: java.lang.ClassNotFoundException: org.apache.hadoop.conf.Configuration\n\tat java.net.URLClassLoader.findClass(URLClassLoader.java:387)\n\tat java.lang.ClassLoader.loadClass(ClassLoader.java:418)\n\tat sun.misc.Launcher$AppClassLoader.loadClass(Launcher.java:352)\n\tat java.lang.ClassLoader.loadClass(ClassLoader.java:351)\n\t... 2 more\n\n\nFor more detailed output, check the application tracking page: http://hadoop-03.uni.innopolis.ru:8088/cluster/app/application_1715165960394_0076 Then click on links to logs of each attempt.\n. Failing the application.\n\tat org.apache.spark.scheduler.cluster.YarnClientSchedulerBackend.waitForApplication(YarnClientSchedulerBackend.scala:97)\n\tat org.apache.spark.scheduler.cluster.YarnClientSchedulerBackend.start(YarnClientSchedulerBackend.scala:64)\n\tat org.apache.spark.scheduler.TaskSchedulerImpl.start(TaskSchedulerImpl.scala:220)\n\tat org.apache.spark.SparkContext.<init>(SparkContext.scala:591)\n\tat org.apache.spark.api.java.JavaSparkContext.<init>(JavaSparkContext.scala:58)\n\tat sun.reflect.NativeConstructorAccessorImpl.newInstance0(Native Method)\n\tat sun.reflect.NativeConstructorAccessorImpl.newInstance(NativeConstructorAccessorImpl.java:62)\n\tat sun.reflect.DelegatingConstructorAccessorImpl.newInstance(DelegatingConstructorAccessorImpl.java:45)\n\tat java.lang.reflect.Constructor.newInstance(Constructor.java:423)\n\tat py4j.reflection.MethodInvoker.invoke(MethodInvoker.java:247)\n\tat py4j.reflection.ReflectionEngine.invoke(ReflectionEngine.java:357)\n\tat py4j.Gateway.invoke(Gateway.java:238)\n\tat py4j.commands.ConstructorCommand.invokeConstructor(ConstructorCommand.java:80)\n\tat py4j.commands.ConstructorCommand.execute(ConstructorCommand.java:69)\n\tat py4j.ClientServerConnection.waitForCommands(ClientServerConnection.java:182)\n\tat py4j.ClientServerConnection.run(ClientServerConnection.java:106)\n\tat java.lang.Thread.run(Thread.java:750)\n",
     "output_type": "error",
     "traceback": [
      "\u001b[0;31m---------------------------------------------------------------------------\u001b[0m",
      "\u001b[0;31mPy4JJavaError\u001b[0m                             Traceback (most recent call last)",
      "\u001b[0;32m<ipython-input-1-17c169b11197>\u001b[0m in \u001b[0;36m<module>\u001b[0;34m\u001b[0m\n\u001b[1;32m     12\u001b[0m         \u001b[0;34m.\u001b[0m\u001b[0mconfig\u001b[0m\u001b[0;34m(\u001b[0m\u001b[0;34m\"hive.metastore.uris\"\u001b[0m\u001b[0;34m,\u001b[0m \u001b[0;34m\"thrift://hadoop-02.uni.innopolis.ru:9883\"\u001b[0m\u001b[0;34m)\u001b[0m\u001b[0;31m\\\u001b[0m\u001b[0;34m\u001b[0m\u001b[0;34m\u001b[0m\u001b[0m\n\u001b[1;32m     13\u001b[0m         \u001b[0;34m.\u001b[0m\u001b[0mconfig\u001b[0m\u001b[0;34m(\u001b[0m\u001b[0;34m\"spark.sql.warehouse.dir\"\u001b[0m\u001b[0;34m,\u001b[0m \u001b[0mwarehouse\u001b[0m\u001b[0;34m)\u001b[0m\u001b[0;31m\\\u001b[0m\u001b[0;34m\u001b[0m\u001b[0;34m\u001b[0m\u001b[0m\n\u001b[0;32m---> 14\u001b[0;31m         \u001b[0;34m.\u001b[0m\u001b[0mconfig\u001b[0m\u001b[0;34m(\u001b[0m\u001b[0;34m\"spark.sql.avro.compression.codec\"\u001b[0m\u001b[0;34m,\u001b[0m \u001b[0;34m\"snappy\"\u001b[0m\u001b[0;34m)\u001b[0m\u001b[0;31m\\\u001b[0m\u001b[0;34m\u001b[0m\u001b[0;34m\u001b[0m\u001b[0m\n\u001b[0m\u001b[1;32m     15\u001b[0m         \u001b[0;34m.\u001b[0m\u001b[0menableHiveSupport\u001b[0m\u001b[0;34m(\u001b[0m\u001b[0;34m)\u001b[0m\u001b[0;31m\\\u001b[0m\u001b[0;34m\u001b[0m\u001b[0;34m\u001b[0m\u001b[0m\n\u001b[1;32m     16\u001b[0m         \u001b[0;34m.\u001b[0m\u001b[0mgetOrCreate\u001b[0m\u001b[0;34m(\u001b[0m\u001b[0;34m)\u001b[0m\u001b[0;34m\u001b[0m\u001b[0;34m\u001b[0m\u001b[0m\n",
      "\u001b[0;32m/usr/local/lib/python3.6/site-packages/pyspark/sql/session.py\u001b[0m in \u001b[0;36mgetOrCreate\u001b[0;34m(self)\u001b[0m\n\u001b[1;32m    226\u001b[0m                             \u001b[0msparkConf\u001b[0m\u001b[0;34m.\u001b[0m\u001b[0mset\u001b[0m\u001b[0;34m(\u001b[0m\u001b[0mkey\u001b[0m\u001b[0;34m,\u001b[0m \u001b[0mvalue\u001b[0m\u001b[0;34m)\u001b[0m\u001b[0;34m\u001b[0m\u001b[0;34m\u001b[0m\u001b[0m\n\u001b[1;32m    227\u001b[0m                         \u001b[0;31m# This SparkContext may be an existing one.\u001b[0m\u001b[0;34m\u001b[0m\u001b[0;34m\u001b[0m\u001b[0;34m\u001b[0m\u001b[0m\n\u001b[0;32m--> 228\u001b[0;31m                         \u001b[0msc\u001b[0m \u001b[0;34m=\u001b[0m \u001b[0mSparkContext\u001b[0m\u001b[0;34m.\u001b[0m\u001b[0mgetOrCreate\u001b[0m\u001b[0;34m(\u001b[0m\u001b[0msparkConf\u001b[0m\u001b[0;34m)\u001b[0m\u001b[0;34m\u001b[0m\u001b[0;34m\u001b[0m\u001b[0m\n\u001b[0m\u001b[1;32m    229\u001b[0m                     \u001b[0;31m# Do not update `SparkConf` for existing `SparkContext`, as it's shared\u001b[0m\u001b[0;34m\u001b[0m\u001b[0;34m\u001b[0m\u001b[0;34m\u001b[0m\u001b[0m\n\u001b[1;32m    230\u001b[0m                     \u001b[0;31m# by all sessions.\u001b[0m\u001b[0;34m\u001b[0m\u001b[0;34m\u001b[0m\u001b[0;34m\u001b[0m\u001b[0m\n",
      "\u001b[0;32m/usr/local/lib/python3.6/site-packages/pyspark/context.py\u001b[0m in \u001b[0;36mgetOrCreate\u001b[0;34m(cls, conf)\u001b[0m\n\u001b[1;32m    390\u001b[0m         \u001b[0;32mwith\u001b[0m \u001b[0mSparkContext\u001b[0m\u001b[0;34m.\u001b[0m\u001b[0m_lock\u001b[0m\u001b[0;34m:\u001b[0m\u001b[0;34m\u001b[0m\u001b[0;34m\u001b[0m\u001b[0m\n\u001b[1;32m    391\u001b[0m             \u001b[0;32mif\u001b[0m \u001b[0mSparkContext\u001b[0m\u001b[0;34m.\u001b[0m\u001b[0m_active_spark_context\u001b[0m \u001b[0;32mis\u001b[0m \u001b[0;32mNone\u001b[0m\u001b[0;34m:\u001b[0m\u001b[0;34m\u001b[0m\u001b[0;34m\u001b[0m\u001b[0m\n\u001b[0;32m--> 392\u001b[0;31m                 \u001b[0mSparkContext\u001b[0m\u001b[0;34m(\u001b[0m\u001b[0mconf\u001b[0m\u001b[0;34m=\u001b[0m\u001b[0mconf\u001b[0m \u001b[0;32mor\u001b[0m \u001b[0mSparkConf\u001b[0m\u001b[0;34m(\u001b[0m\u001b[0;34m)\u001b[0m\u001b[0;34m)\u001b[0m\u001b[0;34m\u001b[0m\u001b[0;34m\u001b[0m\u001b[0m\n\u001b[0m\u001b[1;32m    393\u001b[0m             \u001b[0;32mreturn\u001b[0m \u001b[0mSparkContext\u001b[0m\u001b[0;34m.\u001b[0m\u001b[0m_active_spark_context\u001b[0m\u001b[0;34m\u001b[0m\u001b[0;34m\u001b[0m\u001b[0m\n\u001b[1;32m    394\u001b[0m \u001b[0;34m\u001b[0m\u001b[0m\n",
      "\u001b[0;32m/usr/local/lib/python3.6/site-packages/pyspark/context.py\u001b[0m in \u001b[0;36m__init__\u001b[0;34m(self, master, appName, sparkHome, pyFiles, environment, batchSize, serializer, conf, gateway, jsc, profiler_cls)\u001b[0m\n\u001b[1;32m    145\u001b[0m         \u001b[0;32mtry\u001b[0m\u001b[0;34m:\u001b[0m\u001b[0;34m\u001b[0m\u001b[0;34m\u001b[0m\u001b[0m\n\u001b[1;32m    146\u001b[0m             self._do_init(master, appName, sparkHome, pyFiles, environment, batchSize, serializer,\n\u001b[0;32m--> 147\u001b[0;31m                           conf, jsc, profiler_cls)\n\u001b[0m\u001b[1;32m    148\u001b[0m         \u001b[0;32mexcept\u001b[0m\u001b[0;34m:\u001b[0m\u001b[0;34m\u001b[0m\u001b[0;34m\u001b[0m\u001b[0m\n\u001b[1;32m    149\u001b[0m             \u001b[0;31m# If an error occurs, clean up in order to allow future SparkContext creation:\u001b[0m\u001b[0;34m\u001b[0m\u001b[0;34m\u001b[0m\u001b[0;34m\u001b[0m\u001b[0m\n",
      "\u001b[0;32m/usr/local/lib/python3.6/site-packages/pyspark/context.py\u001b[0m in \u001b[0;36m_do_init\u001b[0;34m(self, master, appName, sparkHome, pyFiles, environment, batchSize, serializer, conf, jsc, profiler_cls)\u001b[0m\n\u001b[1;32m    207\u001b[0m \u001b[0;34m\u001b[0m\u001b[0m\n\u001b[1;32m    208\u001b[0m         \u001b[0;31m# Create the Java SparkContext through Py4J\u001b[0m\u001b[0;34m\u001b[0m\u001b[0;34m\u001b[0m\u001b[0;34m\u001b[0m\u001b[0m\n\u001b[0;32m--> 209\u001b[0;31m         \u001b[0mself\u001b[0m\u001b[0;34m.\u001b[0m\u001b[0m_jsc\u001b[0m \u001b[0;34m=\u001b[0m \u001b[0mjsc\u001b[0m \u001b[0;32mor\u001b[0m \u001b[0mself\u001b[0m\u001b[0;34m.\u001b[0m\u001b[0m_initialize_context\u001b[0m\u001b[0;34m(\u001b[0m\u001b[0mself\u001b[0m\u001b[0;34m.\u001b[0m\u001b[0m_conf\u001b[0m\u001b[0;34m.\u001b[0m\u001b[0m_jconf\u001b[0m\u001b[0;34m)\u001b[0m\u001b[0;34m\u001b[0m\u001b[0;34m\u001b[0m\u001b[0m\n\u001b[0m\u001b[1;32m    210\u001b[0m         \u001b[0;31m# Reset the SparkConf to the one actually used by the SparkContext in JVM.\u001b[0m\u001b[0;34m\u001b[0m\u001b[0;34m\u001b[0m\u001b[0;34m\u001b[0m\u001b[0m\n\u001b[1;32m    211\u001b[0m         \u001b[0mself\u001b[0m\u001b[0;34m.\u001b[0m\u001b[0m_conf\u001b[0m \u001b[0;34m=\u001b[0m \u001b[0mSparkConf\u001b[0m\u001b[0;34m(\u001b[0m\u001b[0m_jconf\u001b[0m\u001b[0;34m=\u001b[0m\u001b[0mself\u001b[0m\u001b[0;34m.\u001b[0m\u001b[0m_jsc\u001b[0m\u001b[0;34m.\u001b[0m\u001b[0msc\u001b[0m\u001b[0;34m(\u001b[0m\u001b[0;34m)\u001b[0m\u001b[0;34m.\u001b[0m\u001b[0mconf\u001b[0m\u001b[0;34m(\u001b[0m\u001b[0;34m)\u001b[0m\u001b[0;34m)\u001b[0m\u001b[0;34m\u001b[0m\u001b[0;34m\u001b[0m\u001b[0m\n",
      "\u001b[0;32m/usr/local/lib/python3.6/site-packages/pyspark/context.py\u001b[0m in \u001b[0;36m_initialize_context\u001b[0;34m(self, jconf)\u001b[0m\n\u001b[1;32m    327\u001b[0m         \u001b[0mInitialize\u001b[0m \u001b[0mSparkContext\u001b[0m \u001b[0;32min\u001b[0m \u001b[0mfunction\u001b[0m \u001b[0mto\u001b[0m \u001b[0mallow\u001b[0m \u001b[0msubclass\u001b[0m \u001b[0mspecific\u001b[0m \u001b[0minitialization\u001b[0m\u001b[0;34m\u001b[0m\u001b[0;34m\u001b[0m\u001b[0m\n\u001b[1;32m    328\u001b[0m         \"\"\"\n\u001b[0;32m--> 329\u001b[0;31m         \u001b[0;32mreturn\u001b[0m \u001b[0mself\u001b[0m\u001b[0;34m.\u001b[0m\u001b[0m_jvm\u001b[0m\u001b[0;34m.\u001b[0m\u001b[0mJavaSparkContext\u001b[0m\u001b[0;34m(\u001b[0m\u001b[0mjconf\u001b[0m\u001b[0;34m)\u001b[0m\u001b[0;34m\u001b[0m\u001b[0;34m\u001b[0m\u001b[0m\n\u001b[0m\u001b[1;32m    330\u001b[0m \u001b[0;34m\u001b[0m\u001b[0m\n\u001b[1;32m    331\u001b[0m     \u001b[0;34m@\u001b[0m\u001b[0mclassmethod\u001b[0m\u001b[0;34m\u001b[0m\u001b[0;34m\u001b[0m\u001b[0m\n",
      "\u001b[0;32m/usr/local/lib/python3.6/site-packages/pyspark/python/lib/py4j-0.10.9.5-src.zip/py4j/java_gateway.py\u001b[0m in \u001b[0;36m__call__\u001b[0;34m(self, *args)\u001b[0m\n\u001b[1;32m   1584\u001b[0m         \u001b[0manswer\u001b[0m \u001b[0;34m=\u001b[0m \u001b[0mself\u001b[0m\u001b[0;34m.\u001b[0m\u001b[0m_gateway_client\u001b[0m\u001b[0;34m.\u001b[0m\u001b[0msend_command\u001b[0m\u001b[0;34m(\u001b[0m\u001b[0mcommand\u001b[0m\u001b[0;34m)\u001b[0m\u001b[0;34m\u001b[0m\u001b[0;34m\u001b[0m\u001b[0m\n\u001b[1;32m   1585\u001b[0m         return_value = get_return_value(\n\u001b[0;32m-> 1586\u001b[0;31m             answer, self._gateway_client, None, self._fqn)\n\u001b[0m\u001b[1;32m   1587\u001b[0m \u001b[0;34m\u001b[0m\u001b[0m\n\u001b[1;32m   1588\u001b[0m         \u001b[0;32mfor\u001b[0m \u001b[0mtemp_arg\u001b[0m \u001b[0;32min\u001b[0m \u001b[0mtemp_args\u001b[0m\u001b[0;34m:\u001b[0m\u001b[0;34m\u001b[0m\u001b[0;34m\u001b[0m\u001b[0m\n",
      "\u001b[0;32m/usr/local/lib/python3.6/site-packages/pyspark/python/lib/py4j-0.10.9.5-src.zip/py4j/protocol.py\u001b[0m in \u001b[0;36mget_return_value\u001b[0;34m(answer, gateway_client, target_id, name)\u001b[0m\n\u001b[1;32m    326\u001b[0m                 raise Py4JJavaError(\n\u001b[1;32m    327\u001b[0m                     \u001b[0;34m\"An error occurred while calling {0}{1}{2}.\\n\"\u001b[0m\u001b[0;34m.\u001b[0m\u001b[0;34m\u001b[0m\u001b[0;34m\u001b[0m\u001b[0m\n\u001b[0;32m--> 328\u001b[0;31m                     format(target_id, \".\", name), value)\n\u001b[0m\u001b[1;32m    329\u001b[0m             \u001b[0;32melse\u001b[0m\u001b[0;34m:\u001b[0m\u001b[0;34m\u001b[0m\u001b[0;34m\u001b[0m\u001b[0m\n\u001b[1;32m    330\u001b[0m                 raise Py4JError(\n",
      "\u001b[0;31mPy4JJavaError\u001b[0m: An error occurred while calling None.org.apache.spark.api.java.JavaSparkContext.\n: org.apache.spark.SparkException: Application application_1715165960394_0076 failed 2 times due to AM Container for appattempt_1715165960394_0076_000002 exited with  exitCode: 1\nFailing this attempt.Diagnostics: [2024-05-08 14:25:30.258]Exception from container-launch.\nContainer id: container_e31_1715165960394_0076_02_000001\nExit code: 1\n\n[2024-05-08 14:25:30.259]Container exited with a non-zero exit code 1. Error file: prelaunch.err.\nLast 4096 bytes of prelaunch.err :\nLast 4096 bytes of stderr :\nException in thread \"main\" java.lang.NoClassDefFoundError: org/apache/hadoop/conf/Configuration\n\tat org.apache.spark.deploy.yarn.ExecutorLauncher$.main(ApplicationMaster.scala:957)\n\tat org.apache.spark.deploy.yarn.ExecutorLauncher.main(ApplicationMaster.scala)\nCaused by: java.lang.ClassNotFoundException: org.apache.hadoop.conf.Configuration\n\tat java.net.URLClassLoader.findClass(URLClassLoader.java:387)\n\tat java.lang.ClassLoader.loadClass(ClassLoader.java:418)\n\tat sun.misc.Launcher$AppClassLoader.loadClass(Launcher.java:352)\n\tat java.lang.ClassLoader.loadClass(ClassLoader.java:351)\n\t... 2 more\n\n\n[2024-05-08 14:25:30.260]Container exited with a non-zero exit code 1. Error file: prelaunch.err.\nLast 4096 bytes of prelaunch.err :\nLast 4096 bytes of stderr :\nException in thread \"main\" java.lang.NoClassDefFoundError: org/apache/hadoop/conf/Configuration\n\tat org.apache.spark.deploy.yarn.ExecutorLauncher$.main(ApplicationMaster.scala:957)\n\tat org.apache.spark.deploy.yarn.ExecutorLauncher.main(ApplicationMaster.scala)\nCaused by: java.lang.ClassNotFoundException: org.apache.hadoop.conf.Configuration\n\tat java.net.URLClassLoader.findClass(URLClassLoader.java:387)\n\tat java.lang.ClassLoader.loadClass(ClassLoader.java:418)\n\tat sun.misc.Launcher$AppClassLoader.loadClass(Launcher.java:352)\n\tat java.lang.ClassLoader.loadClass(ClassLoader.java:351)\n\t... 2 more\n\n\nFor more detailed output, check the application tracking page: http://hadoop-03.uni.innopolis.ru:8088/cluster/app/application_1715165960394_0076 Then click on links to logs of each attempt.\n. Failing the application.\n\tat org.apache.spark.scheduler.cluster.YarnClientSchedulerBackend.waitForApplication(YarnClientSchedulerBackend.scala:97)\n\tat org.apache.spark.scheduler.cluster.YarnClientSchedulerBackend.start(YarnClientSchedulerBackend.scala:64)\n\tat org.apache.spark.scheduler.TaskSchedulerImpl.start(TaskSchedulerImpl.scala:220)\n\tat org.apache.spark.SparkContext.<init>(SparkContext.scala:591)\n\tat org.apache.spark.api.java.JavaSparkContext.<init>(JavaSparkContext.scala:58)\n\tat sun.reflect.NativeConstructorAccessorImpl.newInstance0(Native Method)\n\tat sun.reflect.NativeConstructorAccessorImpl.newInstance(NativeConstructorAccessorImpl.java:62)\n\tat sun.reflect.DelegatingConstructorAccessorImpl.newInstance(DelegatingConstructorAccessorImpl.java:45)\n\tat java.lang.reflect.Constructor.newInstance(Constructor.java:423)\n\tat py4j.reflection.MethodInvoker.invoke(MethodInvoker.java:247)\n\tat py4j.reflection.ReflectionEngine.invoke(ReflectionEngine.java:357)\n\tat py4j.Gateway.invoke(Gateway.java:238)\n\tat py4j.commands.ConstructorCommand.invokeConstructor(ConstructorCommand.java:80)\n\tat py4j.commands.ConstructorCommand.execute(ConstructorCommand.java:69)\n\tat py4j.ClientServerConnection.waitForCommands(ClientServerConnection.java:182)\n\tat py4j.ClientServerConnection.run(ClientServerConnection.java:106)\n\tat java.lang.Thread.run(Thread.java:750)\n"
     ]
    }
   ],
   "source": [
    "from pyspark.sql import SparkSession\n",
    "\n",
    "# Add here your team number teamx\n",
    "team = 4\n",
    "\n",
    "# location of your Hive database in HDFS\n",
    "warehouse = \"project/hive/warehouse\"\n",
    "\n",
    "spark = SparkSession.builder\\\n",
    "        .appName(\"{} - spark ML\".format(team))\\\n",
    "        .master(\"yarn\")\\\n",
    "        .config(\"hive.metastore.uris\", \"thrift://hadoop-02.uni.innopolis.ru:9883\")\\\n",
    "        .config(\"spark.sql.warehouse.dir\", warehouse)\\\n",
    "        .config(\"spark.sql.avro.compression.codec\", \"snappy\")\\\n",
    "        .enableHiveSupport()\\\n",
    "        .getOrCreate()"
   ]
  },
  {
   "cell_type": "code",
   "execution_count": 2,
   "id": "9131806b-b020-4445-803e-59082ae97b35",
   "metadata": {},
   "outputs": [
    {
     "name": "stdout",
     "output_type": "stream",
     "text": [
      "+--------------------+\n",
      "|           namespace|\n",
      "+--------------------+\n",
      "|             default|\n",
      "|             root_db|\n",
      "|     team0_projectdb|\n",
      "|team12_hive_proje...|\n",
      "|    team13_projectdb|\n",
      "|    team14_projectdb|\n",
      "|    team15_projectdb|\n",
      "|    team16_projectdb|\n",
      "|    team17_projectdb|\n",
      "|    team18_projectdb|\n",
      "|    team19_projectdb|\n",
      "|     team1_projectdb|\n",
      "|    team20_projectdb|\n",
      "|    team21_projectdb|\n",
      "|    team22_projectdb|\n",
      "|    team23_projectdb|\n",
      "|    team24_projectdb|\n",
      "|    team25_projectdb|\n",
      "|    team26_projectdb|\n",
      "|    team27_projectdb|\n",
      "+--------------------+\n",
      "only showing top 20 rows\n",
      "\n",
      "++\n",
      "||\n",
      "++\n",
      "++\n",
      "\n",
      "+---------------+--------------+-----------+\n",
      "|      namespace|     tableName|isTemporary|\n",
      "+---------------+--------------+-----------+\n",
      "|team4_projectdb|     incidents|      false|\n",
      "|team4_projectdb|incidents_part|      false|\n",
      "|team4_projectdb|    q1_results|      false|\n",
      "|team4_projectdb|    q2_results|      false|\n",
      "|team4_projectdb|    q3_results|      false|\n",
      "|team4_projectdb|    q4_results|      false|\n",
      "|team4_projectdb|    q5_results|      false|\n",
      "+---------------+--------------+-----------+\n",
      "\n",
      "+---------------+---------------+--------+--------------------+--------------------+-----------+--------------------+--------------------+--------------------+----+-------+---------+------------+----+-----------------+---------------------+---------+-------------+-----------+---------------+-------------------+-----------------------+-----------------------+---------------+-------------+-------------------+-----------------+----------------+--------------------+----------+--------------------+----------------------+------------------+--------------------------+--------------------+--------------------+-----------------+-----------------------+-------------------------+-----------+--------------------+--------------------------------------+--------------------+----------------+--------------------+--------------------+---------------+------------------------------------+----------------------------------------+----------------------------------+------------------------------------+-----------------+-------------+------------------+----------------------+-----------------------+--------------------------------------+----------------------------------+----------------------------------------+--------------------------------------------+-----------------------------------+-------------------+---------------------+--------------------+--------------------+--------------------+\n",
      "|incident_number|exposure_number|      id|             address|       incident_date|call_number|          alarm_dttm|        arrival_dttm|          close_dttm|city|zipcode|battalion|station_area| box|suppression_units|suppression_personnel|ems_units|ems_personnel|other_units|other_personnel|first_unit_on_scene|estimated_property_loss|estimated_contents_loss|fire_fatalities|fire_injuries|civilian_fatalities|civilian_injuries|number_of_alarms|   primary_situation|mutual_aid|action_taken_primary|action_taken_secondary|action_taken_other|detector_alerted_occupants|        property_use| area_of_fire_origin|   ignition_cause|ignition_factor_primary|ignition_factor_secondary|heat_source|  item_first_ignited|human_factors_associated_with_ignition|      structure_type|structure_status|floor_of_fire_origin|         fire_spread|no_flame_spread|number_of_floors_with_minimum_damage|number_of_floors_with_significant_damage|number_of_floors_with_heavy_damage|number_of_floors_with_extreme_damage|detectors_present|detector_type|detector_operation|detector_effectiveness|detector_failure_reason|automatic_extinguishing_system_present|automatic_extinguishing_sytem_type|automatic_extinguishing_sytem_perfomance|automatic_extinguishing_sytem_failure_reason|number_of_sprinkler_heads_operating|supervisor_district|neighborhood_district|               point|          data_as_of|      data_loaded_at|\n",
      "+---------------+---------------+--------+--------------------+--------------------+-----------+--------------------+--------------------+--------------------+----+-------+---------+------------+----+-----------------+---------------------+---------+-------------+-----------+---------------+-------------------+-----------------------+-----------------------+---------------+-------------+-------------------+-----------------+----------------+--------------------+----------+--------------------+----------------------+------------------+--------------------------+--------------------+--------------------+-----------------+-----------------------+-------------------------+-----------+--------------------+--------------------------------------+--------------------+----------------+--------------------+--------------------+---------------+------------------------------------+----------------------------------------+----------------------------------+------------------------------------+-----------------+-------------+------------------+----------------------+-----------------------+--------------------------------------+----------------------------------+----------------------------------------+--------------------------------------------+-----------------------------------+-------------------+---------------------+--------------------+--------------------+--------------------+\n",
      "|        6005946|              0|60059460|1500 - 1514 Innes...|2006-01-21T00:00:...|   60210359|2006-01-21T20:57:...|2006-01-21T21:01:...|2006-01-21T21:08:...|  SF|  94124|      B10|          25|null|                1|                    4|        0|            0|          0|              0|                E25|                    0.0|                    0.0|              0|            0|                  0|                0|               1|113 - Cooking fir...|      None|    86 - Investigate|                  null|              null|               U - Unknown|400 - Residential...|                null|             null|                   null|                     null|       null|                null|                                  null|                null|            null|                null|                null|           null|                                null|                                    null|                              null|                                null|             null|         null|              null|                  null|                   null|                                  null|                              null|                                    null|                                        null|                               null|               10.0| Bayview Hunters P...|POINT (-122.38698...|2006-01-22T07:12:...|2024-04-27T02:16:...|\n",
      "|        6005949|              0|60059490|Font Bl. / Gonzal...|2006-01-21T00:00:...|   60210363|2006-01-21T21:07:...|2006-01-21T21:11:...|2006-01-21T21:12:...|  SF|  94122|      B08|          19|null|                1|                    4|        0|            0|          0|              0|                E19|                    0.0|                    0.0|              0|            0|                  0|                0|               1|711 - Municipal a...|      None|    86 - Investigate|                  null|              null|                      null|962 - Residential...|                null|             null|                   null|                     null|       null|                null|                                  null|                null|            null|                null|                null|           null|                                null|                                    null|                              null|                                null|             null|         null|              null|                  null|                   null|                                  null|                              null|                                    null|                                        null|                               null|                7.0|            Lakeshore|POINT (-122.47591...|2006-02-01T16:45:...|2024-04-27T02:16:...|\n",
      "|        6005955|              0|60059550|     1390 Market St.|2006-01-21T00:00:...|   60210369|2006-01-21T21:14:...|2006-01-21T21:16:...|2006-01-21T21:19:...|  SF|  94102|      B02|          36|null|                1|                    4|        0|            0|          0|              0|                E36|                    0.0|                    0.0|              0|            0|                  0|                0|               1|118 - Trash or ru...|      None|     11 - Extinguish|                  null|              null|               U - Unknown|900 - Outside or ...|                null|             null|                   null|                     null|       null|                null|                                  null|                null|            null|                null|                null|           null|                                null|                                    null|                              null|                                null|             null|         null|              null|                  null|                   null|                                  null|                              null|                                    null|                                        null|                               null|                6.0|           Tenderloin|POINT (-122.41736...|2006-01-21T23:20:...|2024-04-27T02:16:...|\n",
      "|        6005957|              0|60059570|Brady St. / Colto...|2006-01-21T00:00:...|   60210372|2006-01-21T21:39:...|2006-01-21T21:41:...|2006-01-21T21:42:...|  SF|  94102|      B02|          36|null|                1|                    4|        0|            0|          0|              0|                E36|                    0.0|                    0.0|              0|            0|                  0|                0|               1|711 - Municipal a...|      None|    86 - Investigate|                  null|              null|                      null| 960 - Street, other|                null|             null|                   null|                     null|       null|                null|                                  null|                null|            null|                null|                null|           null|                                null|                                    null|                              null|                                null|             null|         null|              null|                  null|                   null|                                  null|                              null|                                    null|                                        null|                               null|                6.0|              Mission|POINT (-122.42040...|2006-02-21T11:45:...|2024-04-27T02:16:...|\n",
      "|        6005967|              0|60059670|        424 Cole St.|2006-01-21T00:00:...|   60210385|2006-01-21T22:51:...|2006-01-21T22:52:...|2006-01-21T23:13:...|  SF|  94117|      B05|          12|null|                9|                   37|        1|            2|          0|              0|                T12|                    0.0|                    0.0|              0|            0|                  0|                0|               1|651 - Smoke scare...|      None|    86 - Investigate|                  null|              null|                      null|429 - Multifamily...|                null|             null|                   null|                     null|       null|                null|                                  null|                null|            null|                null|                null|           null|                                null|                                    null|                              null|                                null|             null|         null|              null|                  null|                   null|                                  null|                              null|                                    null|                                        null|                               null|                5.0|       Haight Ashbury|POINT (-122.45021...|2006-01-22T00:18:...|2024-04-27T02:16:...|\n",
      "|        6005969|              0|60059690|     1751 Market St.|2006-01-21T00:00:...|   60210387|2006-01-21T22:52:...|2006-01-21T22:58:...|2006-01-21T23:14:...|  SF|  94102|      B02|          36|null|                3|                   10|        0|            0|          0|              0|                E36|                    0.0|                    0.0|              0|            0|                  0|                0|               1|730 - System malf...|      None|    86 - Investigate|                  null|              null|                      null|429 - Multifamily...|                null|             null|                   null|                     null|       null|                null|                                  null|                null|            null|                null|                null|           null|                                null|                                    null|                              null|                                null|             null|         null|              null|                  null|                   null|                                  null|                              null|                                    null|                                        null|                               null|                6.0|              Mission|POINT (-122.42273...|2006-01-22T07:24:...|2024-04-27T02:16:...|\n",
      "|        6005973|              0|60059730|Francisco St. / V...|2006-01-21T00:00:...|   60210391|2006-01-21T23:11:...|2006-01-21T23:15:...|2006-01-21T23:16:...|  SF|  94123|      B04|          16|null|                2|                    9|        0|            0|          0|              0|                E16|                    0.0|                    0.0|              0|            0|                  0|                0|               1|711 - Municipal a...|      None|    86 - Investigate|                  null|              null|                      null|962 - Residential...|                null|             null|                   null|                     null|       null|                null|                                  null|                null|            null|                null|                null|           null|                                null|                                    null|                              null|                                null|             null|         null|              null|                  null|                   null|                                  null|                              null|                                    null|                                        null|                               null|                2.0|               Marina|POINT (-122.42492...|2006-01-22T07:45:...|2024-04-27T02:16:...|\n",
      "|        6005987|              0|60059870|  600 - Blk 12th Av.|2006-01-22T00:00:...|   60220009|2006-01-22T00:45:...|2006-01-22T00:49:...|2006-01-22T00:57:...|  SF|  94118|      B07|          31|null|                1|                    4|        0|            0|          0|              0|                E31|                    0.0|                    0.0|              0|            0|                  0|                0|               1|651 - Smoke scare...|      None|    86 - Investigate|                  null|              null|      2 - Detector did ...| 960 - Street, other|                null|             null|                   null|                     null|       null|                null|                                  null|                null|            null|                null|                null|           null|                                null|                                    null|                              null|                                null|             null|         null|              null|                  null|                   null|                                  null|                              null|                                    null|                                        null|                               null|                1.0|       Inner Richmond|POINT (-122.47143...|2006-01-22T01:01:...|2024-04-27T02:16:...|\n",
      "|        6005989|              0|60059890|    1385 Mission St.|2006-01-22T00:00:...|   60220011|2006-01-22T00:50:...|2006-01-22T00:53:...|2006-01-22T00:57:...|  SF|  94117|      B02|          36|null|                1|                    4|        0|            0|          0|              0|                E36|                    0.0|                    0.0|              0|            0|                  0|                0|               1|      511 - Lock-out|      None| 52 - Forcible entry|                  null|              null|                      null|429 - Multifamily...|                null|             null|                   null|                     null|       null|                null|                                  null|                null|            null|                null|                null|           null|                                null|                                    null|                              null|                                null|             null|         null|              null|                  null|                   null|                                  null|                              null|                                    null|                                        null|                               null|                6.0|      South of Market|POINT (-122.41536...|2006-01-22T04:00:...|2024-04-27T02:16:...|\n",
      "|        6005990|              0|60059900|19th St. / Bryant...|2006-01-22T00:00:...|   60220012|2006-01-22T00:53:...|2006-01-22T00:55:...|2006-01-22T01:53:...|  SF|  94110|      B02|          07|null|                4|                   14|        3|            5|          0|              0|                M07|                    0.0|                    0.0|              0|            0|                  0|                0|               1|311 - Medical ass...|      None|30 - Emergency me...|                  null|              null|                      null|962 - Residential...|                null|             null|                   null|                     null|       null|                null|                                  null|                null|            null|                null|                null|           null|                                null|                                    null|                              null|                                null|             null|         null|              null|                  null|                   null|                                  null|                              null|                                    null|                                        null|                               null|                9.0|              Mission|POINT (-122.40999...|2006-01-22T06:57:...|2024-04-27T02:16:...|\n",
      "|        6005994|              0|60059940|10th St. / Folsom...|2006-01-22T00:00:...|   60220017|2006-01-22T01:01:...|2006-01-22T01:02:...|2006-01-22T01:03:...|  SF|  94103|      B02|          36|null|                2|                    9|        0|            0|          0|              0|                E36|                    0.0|                    0.0|              0|            0|                  0|                0|               1|711 - Municipal a...|      None|    86 - Investigate|                  null|              null|                      null| 960 - Street, other|                null|             null|                   null|                     null|       null|                null|                                  null|                null|            null|                null|                null|           null|                                null|                                    null|                              null|                                null|             null|         null|              null|                  null|                   null|                                  null|                              null|                                    null|                                        null|                               null|                6.0|      South of Market|POINT (-122.41282...|2006-01-22T04:08:...|2024-04-27T02:16:...|\n",
      "|        6005998|              0|60059980|  7th St. / King St.|2006-01-22T00:00:...|   60220022|2006-01-22T01:26:...|2006-01-22T01:31:...|2006-01-22T03:03:...|  SF|  94103|      B03|          08|null|                2|                    6|        0|            0|          0|              0|                T08|                    0.0|                    0.0|              0|            0|                  0|                0|               1|520 - Water probl...|      None|    86 - Investigate|                  null|              null|                      null|962 - Residential...|                null|             null|                   null|                     null|       null|                null|                                  null|                null|            null|                null|                null|           null|                                null|                                    null|                              null|                                null|             null|         null|              null|                  null|                   null|                                  null|                              null|                                    null|                                        null|                               null|                6.0|          Mission Bay|POINT (-122.40080...|2006-01-22T08:11:...|2024-04-27T02:16:...|\n",
      "|        6006003|              0|60060030|Alemany Bl. / San...|2006-01-22T00:00:...|   60220027|2006-01-22T01:58:...|2006-01-22T02:03:...|2006-01-22T02:04:...|  SF|  94112|      B09|          15|null|                2|                    9|        0|            0|          0|              0|                E15|                    0.0|                    0.0|              0|            0|                  0|                0|               1|711 - Municipal a...|      None|    86 - Investigate|                  null|              null|                      null| 960 - Street, other|                null|             null|                   null|                     null|       null|                null|                                  null|                null|            null|                null|                null|           null|                                null|                                    null|                              null|                                null|             null|         null|              null|                  null|                   null|                                  null|                              null|                                    null|                                        null|                               null|                9.0|              Portola|POINT (-122.40817...|2006-01-22T07:39:...|2024-04-27T02:16:...|\n",
      "|        6006008|              0|60060080|3rd St. / Market St.|2006-01-22T00:00:...|   60220033|2006-01-22T02:17:...|2006-01-22T02:24:...|2006-01-22T03:05:...|  SF|  94103|      B01|          01|null|                1|                    4|        0|            0|          0|              0|                M13|                    0.0|                    0.0|              0|            0|                  0|                0|               1|463 - Vehicle acc...|      None|30 - Emergency me...|                  null|              null|                      null| 960 - Street, other|                null|             null|                   null|                     null|       null|                null|                                  null|                null|            null|                null|                null|           null|                                null|                                    null|                              null|                                null|             null|         null|              null|                  null|                   null|                                  null|                              null|                                    null|                                        null|                               null|                6.0| Financial Distric...|POINT (-122.40343...|2006-01-22T07:49:...|2024-04-27T02:16:...|\n",
      "|        6006009|              0|60060090| 24th St. / York St.|2006-01-22T00:00:...|   60220034|2006-01-22T02:18:...|2006-01-22T02:22:...|2006-01-22T02:25:...|  SF|  94107|      B06|          09|null|                1|                    4|        0|            0|          0|              0|                E09|                    0.0|                    0.0|              0|            0|                  0|                0|               1|711 - Municipal a...|      None|    86 - Investigate|                  null|              null|                      null| 960 - Street, other|                null|             null|                   null|                     null|       null|                null|                                  null|                null|            null|                null|                null|           null|                                null|                                    null|                              null|                                null|             null|         null|              null|                  null|                   null|                                  null|                              null|                                    null|                                        null|                               null|                9.0|              Mission|POINT (-122.40819...|2006-02-21T13:40:...|2024-04-27T02:16:...|\n",
      "|        6006010|              0|60060100|        1500 7th Av.|2006-01-22T00:00:...|   60220035|2006-01-22T02:23:...|2006-01-22T02:27:...|2006-01-22T02:38:...|  SF|  94122|      B08|          22|null|                1|                    4|        0|            0|          0|              0|                E22|                    0.0|                    0.0|              0|            0|                  0|                0|               1|710 - Malicious, ...|      None|    86 - Investigate|                  null|              null|                      null|000 - Property Us...|                null|             null|                   null|                     null|       null|                null|                                  null|                null|            null|                null|                null|           null|                                null|                                    null|                              null|                                null|             null|         null|              null|                  null|                   null|                                  null|                              null|                                    null|                                        null|                               null|                7.0|         Inner Sunset|POINT (-122.46382...|2006-01-22T07:24:...|2024-04-27T02:16:...|\n",
      "|        6006013|              0|60060130|      1860 Hayes St.|2006-01-22T00:00:...|   60220038|2006-01-22T02:53:...|2006-01-22T02:57:...|2006-01-22T03:27:...|  SF|  94117|      B05|          21|null|                3|                    1|        0|            0|          0|              0|                E21|                    0.0|                    0.0|              0|            0|                  0|                0|               1|735 - Alarm syste...|      None|    86 - Investigate|                  null|              null|                      null|210 - Schools, no...|                null|             null|                   null|                     null|       null|                null|                                  null|                null|            null|                null|                null|           null|                                null|                                    null|                              null|                                null|             null|         null|              null|                  null|                   null|                                  null|                              null|                                    null|                                        null|                               null|                5.0|    Lone Mountain/USF|POINT (-122.44701...|2006-01-22T03:27:...|2024-04-27T02:16:...|\n",
      "|        6006163|              0|60061630|      747 Howard St.|2006-01-22T00:00:...|   60220248|2006-01-22T16:18:...|2006-01-22T16:20:...|2006-01-22T16:37:...|  SF|  94105|      B03|          01|null|                3|                   11|        0|            0|          0|              0|                E01|                    0.0|                    0.0|              0|            0|                  0|                0|               1|700 - False alarm...|      None|    86 - Investigate|                  null|              null|                      null|122 - Convention ...|                null|             null|                   null|                     null|       null|                null|                                  null|                null|            null|                null|                null|           null|                                null|                                    null|                              null|                                null|             null|         null|              null|                  null|                   null|                                  null|                              null|                                    null|                                        null|                               null|                6.0|      South of Market|POINT (-122.40081...|2006-01-22T19:04:...|2024-04-27T02:16:...|\n",
      "|        6006015|              0|60060150|     1231 Silver Av.|2006-01-22T00:00:...|   60220041|2006-01-22T03:05:...|2006-01-22T03:08:...|2006-01-22T03:52:...|  SF|  94112|      B10|          42|null|                9|                   31|        2|            3|          0|              0|                E42|                 4000.0|                  800.0|              0|            0|                  0|                0|               1| 111 - Building fire|      None|     11 - Extinguish|  12 - Salvage & ov...|              null|                      null|419 - 1 or 2 fami...|14 - Common room,...|2 - Unintentional|   12 - Heat source ...|     10 - Misuse of ma...|66 - Candle|34 - Wearing appa...|                            1 - Asleep|1 -Enclosed building|2 -In normal use|                 1.0|30 -Soft goods, w...|              2|                                 1.0|                                     0.0|                               0.0|                                 0.0|   N -Not present|         null|              null|                  null|                   null|                       N -None Present|                              null|                                    null|                                        null|                                0.0|                9.0|              Portola|POINT (-122.41045...|2006-01-22T07:10:...|2024-04-27T02:16:...|\n",
      "|        6006016|              0|60060160|        1650 3rd St.|2006-01-22T00:00:...|   60220042|2006-01-22T03:13:...|2006-01-22T03:18:...|2006-01-22T03:29:...|  SF|  94103|      B03|          29|null|                1|                    4|        0|            0|          0|              0|                E29|                    0.0|                    0.0|              0|            0|                  0|                0|               1|743 - Smoke detec...|      None|    86 - Investigate|                  null|              null|                      null|965 - Vehicle par...|                null|             null|                   null|                     null|       null|                null|                                  null|                null|            null|                null|                null|           null|                                null|                                    null|                              null|                                null|             null|         null|              null|                  null|                   null|                                  null|                              null|                                    null|                                        null|                               null|                6.0|          Mission Bay|POINT (-122.38932...|2006-01-22T07:59:...|2024-04-27T02:16:...|\n",
      "+---------------+---------------+--------+--------------------+--------------------+-----------+--------------------+--------------------+--------------------+----+-------+---------+------------+----+-----------------+---------------------+---------+-------------+-----------+---------------+-------------------+-----------------------+-----------------------+---------------+-------------+-------------------+-----------------+----------------+--------------------+----------+--------------------+----------------------+------------------+--------------------------+--------------------+--------------------+-----------------+-----------------------+-------------------------+-----------+--------------------+--------------------------------------+--------------------+----------------+--------------------+--------------------+---------------+------------------------------------+----------------------------------------+----------------------------------+------------------------------------+-----------------+-------------+------------------+----------------------+-----------------------+--------------------------------------+----------------------------------+----------------------------------------+--------------------------------------------+-----------------------------------+-------------------+---------------------+--------------------+--------------------+--------------------+\n",
      "only showing top 20 rows\n",
      "\n"
     ]
    }
   ],
   "source": [
    "spark.sql(\"SHOW DATABASES\").show()\n",
    "spark.sql(\"USE team4_projectdb\").show()\n",
    "spark.sql(\"SHOW TABLES\").show()\n",
    "spark.sql(\"SELECT * FROM team4_projectdb.incidents\").show()\n"
   ]
  },
  {
   "cell_type": "code",
   "execution_count": 3,
   "id": "22734ab4-5d50-479c-be39-1f27b15ea62b",
   "metadata": {},
   "outputs": [],
   "source": [
    "inc_part = spark.read.format(\"avro\").table('team4_projectdb.incidents_part')"
   ]
  },
  {
   "cell_type": "code",
   "execution_count": 4,
   "id": "b0bf5e48-3b13-4c76-9f55-caa0b43d5b34",
   "metadata": {},
   "outputs": [
    {
     "name": "stdout",
     "output_type": "stream",
     "text": [
      "root\n",
      " |-- incident_number: decimal(10,0) (nullable = true)\n",
      " |-- exposure_number: decimal(10,0) (nullable = true)\n",
      " |-- id: decimal(10,0) (nullable = true)\n",
      " |-- address: string (nullable = true)\n",
      " |-- incident_date: string (nullable = true)\n",
      " |-- call_number: decimal(10,0) (nullable = true)\n",
      " |-- alarm_dttm: string (nullable = true)\n",
      " |-- arrival_dttm: string (nullable = true)\n",
      " |-- close_dttm: string (nullable = true)\n",
      " |-- zipcode: string (nullable = true)\n",
      " |-- battalion: string (nullable = true)\n",
      " |-- station_area: string (nullable = true)\n",
      " |-- box: string (nullable = true)\n",
      " |-- suppression_units: decimal(10,0) (nullable = true)\n",
      " |-- suppression_personnel: decimal(10,0) (nullable = true)\n",
      " |-- ems_units: decimal(10,0) (nullable = true)\n",
      " |-- ems_personnel: decimal(10,0) (nullable = true)\n",
      " |-- other_units: decimal(10,0) (nullable = true)\n",
      " |-- other_personnel: decimal(10,0) (nullable = true)\n",
      " |-- first_unit_on_scene: string (nullable = true)\n",
      " |-- estimated_property_loss: decimal(10,0) (nullable = true)\n",
      " |-- estimated_contents_loss: decimal(10,0) (nullable = true)\n",
      " |-- fire_fatalities: decimal(10,0) (nullable = true)\n",
      " |-- fire_injuries: decimal(10,0) (nullable = true)\n",
      " |-- civilian_fatalities: decimal(10,0) (nullable = true)\n",
      " |-- civilian_injuries: decimal(10,0) (nullable = true)\n",
      " |-- number_of_alarms: decimal(10,0) (nullable = true)\n",
      " |-- primary_situation: string (nullable = true)\n",
      " |-- mutual_aid: string (nullable = true)\n",
      " |-- action_taken_primary: string (nullable = true)\n",
      " |-- action_taken_secondary: string (nullable = true)\n",
      " |-- action_taken_other: string (nullable = true)\n",
      " |-- detector_alerted_occupants: string (nullable = true)\n",
      " |-- property_use: string (nullable = true)\n",
      " |-- area_of_fire_origin: string (nullable = true)\n",
      " |-- ignition_cause: string (nullable = true)\n",
      " |-- ignition_factor_primary: string (nullable = true)\n",
      " |-- ignition_factor_secondary: string (nullable = true)\n",
      " |-- heat_source: string (nullable = true)\n",
      " |-- item_first_ignited: string (nullable = true)\n",
      " |-- human_factors_associated_with_ignition: string (nullable = true)\n",
      " |-- structure_type: string (nullable = true)\n",
      " |-- structure_status: string (nullable = true)\n",
      " |-- floor_of_fire_origin: decimal(10,0) (nullable = true)\n",
      " |-- fire_spread: string (nullable = true)\n",
      " |-- no_flame_spread: string (nullable = true)\n",
      " |-- number_of_floors_with_minimum_damage: decimal(10,0) (nullable = true)\n",
      " |-- number_of_floors_with_significant_damage: decimal(10,0) (nullable = true)\n",
      " |-- number_of_floors_with_heavy_damage: decimal(10,0) (nullable = true)\n",
      " |-- number_of_floors_with_extreme_damage: decimal(10,0) (nullable = true)\n",
      " |-- detectors_present: string (nullable = true)\n",
      " |-- detector_type: string (nullable = true)\n",
      " |-- detector_operation: string (nullable = true)\n",
      " |-- detector_effectiveness: string (nullable = true)\n",
      " |-- detector_failure_reason: string (nullable = true)\n",
      " |-- automatic_extinguishing_system_present: string (nullable = true)\n",
      " |-- automatic_extinguishing_sytem_type: string (nullable = true)\n",
      " |-- automatic_extinguishing_sytem_perfomance: string (nullable = true)\n",
      " |-- automatic_extinguishing_sytem_failure_reason: string (nullable = true)\n",
      " |-- number_of_sprinkler_heads_operating: decimal(10,0) (nullable = true)\n",
      " |-- supervisor_district: string (nullable = true)\n",
      " |-- neighborhood_district: string (nullable = true)\n",
      " |-- point: string (nullable = true)\n",
      " |-- data_as_of: string (nullable = true)\n",
      " |-- data_loaded_at: string (nullable = true)\n",
      " |-- city: string (nullable = true)\n",
      "\n"
     ]
    }
   ],
   "source": [
    "inc_part.printSchema()"
   ]
  },
  {
   "cell_type": "code",
   "execution_count": null,
   "id": "71865131-3953-49d9-b49a-fd520b7166c8",
   "metadata": {},
   "outputs": [],
   "source": [
    "# spark.sql(\"SELECT * FROM incidents_part WHERE fire_injuries=2\").show()"
   ]
  },
  {
   "cell_type": "code",
   "execution_count": null,
   "id": "3bf4a25b-55eb-4329-afd3-40222b3480a4",
   "metadata": {},
   "outputs": [],
   "source": [
    "# inc_part=inc_part.na.drop()"
   ]
  },
  {
   "cell_type": "code",
   "execution_count": 5,
   "id": "89be5a99-f6e2-46e3-bb8d-dea0cb0c3bcd",
   "metadata": {},
   "outputs": [],
   "source": [
    "# Import necessary libraries\n",
    "from pyspark.sql import SparkSession\n",
    "import pyspark.sql.functions as F\n",
    "\n",
    "# Initialize Spark session\n",
    "spark = SparkSession.builder \\\n",
    "    .appName(\"4 - Spark ML\") \\\n",
    "    .master(\"yarn\") \\\n",
    "    .config(\"hive.metastore.uris\", \"thrift://hadoop-02.uni.innopolis.ru:9883\") \\\n",
    "    .config(\"spark.sql.warehouse.dir\", warehouse) \\\n",
    "    .config(\"spark.sql.avro.compression.codec\", \"snappy\") \\\n",
    "    .enableHiveSupport() \\\n",
    "    .getOrCreate()\n",
    "\n",
    "# Select relevant columns\n",
    "features = ['incident_number', 'primary_situation',\n",
    "                'ems_units', 'suppression_units', 'action_taken_primary']\n",
    "label_col = 'suppression_personnel'\n",
    "\n",
    "df = inc_part.select(features + [label_col])\n",
    "\n",
    "for col_name in ['primary_situation', 'action_taken_primary']:\n",
    "    df = df.withColumn(col_name, F.translate(col_name, \"'\", \"\"))\n"
   ]
  },
  {
   "cell_type": "code",
   "execution_count": 6,
   "id": "dad055c5-562a-4f15-b08f-901224608020",
   "metadata": {},
   "outputs": [
    {
     "name": "stdout",
     "output_type": "stream",
     "text": [
      "+---------------+--------------------+---------+-----------------+--------------------+---------------------+\n",
      "|incident_number|   primary_situation|ems_units|suppression_units|action_taken_primary|suppression_personnel|\n",
      "+---------------+--------------------+---------+-----------------+--------------------+---------------------+\n",
      "|       14048364|650 Steam, other ...|        0|                2|70 Assistance, other|                    9|\n",
      "|       14048617|735 Alarm system ...|        0|                3|      86 Investigate|                   10|\n",
      "|       14052106|322 Motor vehicle...|        2|                1|31 Provide first ...|                    2|\n",
      "|       14052706|500 Service Call,...|        0|                1|70 Assistance, other|                    5|\n",
      "|       14070751|671 HazMat releas...|        3|               12|      86 Investigate|                   43|\n",
      "|       14076628|700 False alarm o...|        0|                2|00 Action taken, ...|                    9|\n",
      "|       14077756|        511 Lock-out|        0|                1|70 Assistance, other|                    4|\n",
      "|       14083536|611 Dispatched & ...|        1|                1|93 Cancelled en r...|                    4|\n",
      "|       19141397|322 Motor vehicle...|        2|                1|31 Provide first ...|                    4|\n",
      "|       19141880|324 Motor vehicle...|        1|                1|      86 Investigate|                    4|\n",
      "|       19147598|500 Service Call,...|        0|                5|      86 Investigate|                   18|\n",
      "|       19149000|311 Medical assis...|        2|                1|00 Action taken, ...|                    4|\n",
      "|       19153309|900 Special type ...|        0|                2|      86 Investigate|                    9|\n",
      "|       19153861|311 Medical assis...|        3|                4|32 Provide basic ...|                   13|\n",
      "|       19154961|500 Service Call,...|        3|                1|      86 Investigate|                    4|\n",
      "|       20003159|322 Motor vehicle...|        2|                1|30 Emergency medi...|                    4|\n",
      "|       20005162|311 Medical assis...|        2|                1| 73 Provide manpower|                    4|\n",
      "|       20011147|381 Rescue or EMS...|        3|                6|20 Search & rescu...|                   23|\n",
      "|       20014239|323 Motor vehicle...|        3|                2|70 Assistance, other|                    8|\n",
      "|       20014409|322 Motor vehicle...|        0|                1|70 Assistance, other|                    4|\n",
      "+---------------+--------------------+---------+-----------------+--------------------+---------------------+\n",
      "only showing top 20 rows\n",
      "\n"
     ]
    }
   ],
   "source": [
    "df.show()"
   ]
  },
  {
   "cell_type": "code",
   "execution_count": 7,
   "id": "ca65c306-8752-4a30-bc72-39f0394de18d",
   "metadata": {},
   "outputs": [],
   "source": [
    "df = df.withColumn('incident_number', df['incident_number'].cast('string'))\n",
    "df = df.withColumn('ems_units', df['ems_units'].cast('integer'))\n",
    "df = df.withColumn('suppression_units', df['suppression_units'].cast('integer'))"
   ]
  },
  {
   "cell_type": "code",
   "execution_count": 8,
   "id": "29ec0121-bbd9-44c2-a5d3-62a41cb1797e",
   "metadata": {},
   "outputs": [],
   "source": [
    "from pyspark.ml import Pipeline\n",
    "from pyspark.ml.feature import StringIndexer, OneHotEncoder, VectorAssembler\n",
    "from pyspark.ml.regression import RandomForestRegressor\n",
    "from pyspark.ml.evaluation import RegressionEvaluator\n",
    "\n",
    "df = df.dropna(subset=features + [label_col])"
   ]
  },
  {
   "cell_type": "code",
   "execution_count": 9,
   "id": "d1954571-ac34-4605-b208-bc585c2a8c8d",
   "metadata": {},
   "outputs": [],
   "source": [
    "from pyspark.sql.functions import col\n",
    "\n",
    "\n",
    "df = df.filter(col(\"suppression_personnel\") > 0)\n",
    "\n"
   ]
  },
  {
   "cell_type": "code",
   "execution_count": 10,
   "id": "8a69a2d1-40a8-49f8-88b9-9e6b6739febc",
   "metadata": {},
   "outputs": [
    {
     "name": "stdout",
     "output_type": "stream",
     "text": [
      "+---------------+--------------------+---------+-----------------+--------------------+---------------------+\n",
      "|incident_number|   primary_situation|ems_units|suppression_units|action_taken_primary|suppression_personnel|\n",
      "+---------------+--------------------+---------+-----------------+--------------------+---------------------+\n",
      "|        6006192|      511 - Lock-out|        0|                1|    86 - Investigate|                    5|\n",
      "|        6008854|735 - Alarm syste...|        0|                4|    86 - Investigate|                   13|\n",
      "|        6010146|611 - Dispatched ...|        1|                5|93 - Cancelled en...|                   17|\n",
      "|        6010343|      511 - Lock-out|        0|                2| 52 - Forcible entry|                    9|\n",
      "|        6011851|550 - Public serv...|        0|                1|    86 - Investigate|                    4|\n",
      "|        6014018|520 - Water probl...|        0|                1|70 - Assistance, ...|                    4|\n",
      "|        6015003|251 - Excess heat...|        0|                4|12 - Salvage & ov...|                   12|\n",
      "|        6016048|710 - Malicious, ...|        0|                3|62 - Restore fire...|                   10|\n",
      "|        6016958|710 - Malicious, ...|        0|                3|    86 - Investigate|                   10|\n",
      "|        6016965|715 - Local alarm...|        0|                2|    86 - Investigate|                    9|\n",
      "|        6016998|710 - Malicious, ...|        0|                3|    86 - Investigate|                   10|\n",
      "|        6017628|735 - Alarm syste...|        0|                3|    86 - Investigate|                   11|\n",
      "|        6018607|510 - Person in d...|        0|                1|70 - Assistance, ...|                    4|\n",
      "|        6019881|700 - False alarm...|        0|                1|    86 - Investigate|                    4|\n",
      "|        6020205|600 - Good intent...|        0|                1|70 - Assistance, ...|                    4|\n",
      "|        6022472|740 - Unintention...|        0|                3|    86 - Investigate|                   10|\n",
      "|        6022720| 111 - Building fire|        0|               11|12 - Salvage & ov...|                   40|\n",
      "|        6022915|721 - Bomb scare ...|        0|                4|        92 - Standby|                   12|\n",
      "|        6022940|710 - Malicious, ...|        0|                4|63 - Restore fire...|                   12|\n",
      "|        6022982|520 - Water probl...|        0|                2|00 - Action taken...|                    9|\n",
      "+---------------+--------------------+---------+-----------------+--------------------+---------------------+\n",
      "only showing top 20 rows\n",
      "\n"
     ]
    }
   ],
   "source": [
    "df.show()"
   ]
  },
  {
   "cell_type": "code",
   "execution_count": 11,
   "id": "20027e26-118b-41a8-9f5a-8fbdf4abdde0",
   "metadata": {},
   "outputs": [],
   "source": [
    "# Create string indexers for categorical columns\n",
    "indexers = [StringIndexer(inputCol=col_name, outputCol=f\"{col_name}_indexed\", handleInvalid=\"keep\") for col_name in ['primary_situation', 'action_taken_primary']]\n",
    "\n",
    "# Apply one-hot encoding to indexed categorical columns\n",
    "encoders = [OneHotEncoder(inputCol=indexer.getOutputCol(), outputCol=f\"{indexer.getOutputCol()}_encoded\") for indexer in indexers]\n",
    "\n",
    "# Assemble features into a single vector\n",
    "assembler = VectorAssembler(inputCols=[encoder.getOutputCol() for encoder in encoders] + ['ems_units', 'suppression_units'], outputCol=\"features\")\n",
    "\n",
    "# Define the Random Forest regressor\n",
    "rf = RandomForestRegressor(featuresCol=\"features\", labelCol=label_col)\n",
    "\n",
    "# Create the pipeline\n",
    "pipeline_rf = Pipeline(stages=indexers + encoders + [assembler, rf])\n",
    "\n",
    "# Split the data into training and testing sets\n",
    "(train_data, test_data) = df.randomSplit([0.6, 0.4], seed=10)"
   ]
  },
  {
   "cell_type": "code",
   "execution_count": 13,
   "id": "e6c90ec5-60ea-48cb-ac7a-959c6db5f02e",
   "metadata": {},
   "outputs": [
    {
     "name": "stdout",
     "output_type": "stream",
     "text": [
      "+---------------+--------------------+---------+-----------------+--------------------+---------------------+\n",
      "|incident_number|   primary_situation|ems_units|suppression_units|action_taken_primary|suppression_personnel|\n",
      "+---------------+--------------------+---------+-----------------+--------------------+---------------------+\n",
      "|       14027372|150 Outside rubbi...|        2|               13|10 Fire control o...|                   49|\n",
      "|       14028027|322 Motor vehicle...|        2|                1|33 Provide advanc...|                    3|\n",
      "|       14028981|745 Alarm system ...|        0|                3|      86 Investigate|                   10|\n",
      "|       14036460|900 Special type ...|        1|                1|00 Action taken, ...|                    4|\n",
      "|       14037916|600 Good intent c...|        0|                3|42 HazMat detecti...|                   10|\n",
      "|       12098159|331 - Lock-in (if...|        0|                1|00 - Action taken...|                    5|\n",
      "|        3000836|621 - Wrong location|        0|                1|    86 - Investigate|                    4|\n",
      "|        3003797|550 - Public serv...|        0|                1|41 - Identify, an...|                    2|\n",
      "|        3011937|462 - Aircraft st...|        0|                1|        92 - Standby|                    4|\n",
      "|        3012439|462 - Aircraft st...|        0|                1|        92 - Standby|                    4|\n",
      "|        3013917|462 - Aircraft st...|        0|                1|        92 - Standby|                    4|\n",
      "|        3014710|411 - Gasoline or...|        0|                1|43 - HazMat spill...|                    4|\n",
      "|        3014787|462 - Aircraft st...|        0|                1|        92 - Standby|                    4|\n",
      "|        3014849|462 - Aircraft st...|        0|                1|        92 - Standby|                    4|\n",
      "|        3016498|311 - Medical ass...|        1|                1|55 - Establish sa...|                    4|\n",
      "|        3016895|462 - Aircraft st...|        0|                1|        92 - Standby|                    4|\n",
      "|        3017792|462 - Aircraft st...|        0|                1|        92 - Standby|                    4|\n",
      "|        3019226|462 - Aircraft st...|        0|                1|70 - Assistance, ...|                    4|\n",
      "|        3022049|551 - Assist PD o...|        0|                1|83 - Provide info...|                    2|\n",
      "|        3025621|900 - Special typ...|        0|                1|73 - Provide manp...|                    3|\n",
      "+---------------+--------------------+---------+-----------------+--------------------+---------------------+\n",
      "only showing top 20 rows\n",
      "\n"
     ]
    }
   ],
   "source": [
    "train_data.show()"
   ]
  },
  {
   "cell_type": "code",
   "execution_count": 1,
   "id": "25e28bb4-eb17-4dd4-9e6e-41dd45444f6a",
   "metadata": {},
   "outputs": [
    {
     "ename": "NameError",
     "evalue": "name 'train_data' is not defined",
     "output_type": "error",
     "traceback": [
      "\u001b[0;31m---------------------------------------------------------------------------\u001b[0m",
      "\u001b[0;31mNameError\u001b[0m                                 Traceback (most recent call last)",
      "\u001b[0;32m<ipython-input-1-e3be1e5c59a3>\u001b[0m in \u001b[0;36m<module>\u001b[0;34m\u001b[0m\n\u001b[0;32m----> 1\u001b[0;31m \u001b[0mtrain_data\u001b[0m\u001b[0;34m.\u001b[0m\u001b[0mcoalesce\u001b[0m\u001b[0;34m(\u001b[0m\u001b[0;36m1\u001b[0m\u001b[0;34m)\u001b[0m\u001b[0;31m \u001b[0m\u001b[0;31m\\\u001b[0m\u001b[0;34m\u001b[0m\u001b[0;34m\u001b[0m\u001b[0m\n\u001b[0m\u001b[1;32m      2\u001b[0m         \u001b[0;34m.\u001b[0m\u001b[0mwrite\u001b[0m\u001b[0;31m \u001b[0m\u001b[0;31m\\\u001b[0m\u001b[0;34m\u001b[0m\u001b[0;34m\u001b[0m\u001b[0m\n\u001b[1;32m      3\u001b[0m         \u001b[0;34m.\u001b[0m\u001b[0mmode\u001b[0m\u001b[0;34m(\u001b[0m\u001b[0;34m\"overwrite\"\u001b[0m\u001b[0;34m)\u001b[0m\u001b[0;31m \u001b[0m\u001b[0;31m\\\u001b[0m\u001b[0;34m\u001b[0m\u001b[0;34m\u001b[0m\u001b[0m\n\u001b[1;32m      4\u001b[0m         \u001b[0;34m.\u001b[0m\u001b[0mformat\u001b[0m\u001b[0;34m(\u001b[0m\u001b[0;34m\"csv\"\u001b[0m\u001b[0;34m)\u001b[0m\u001b[0;31m \u001b[0m\u001b[0;31m\\\u001b[0m\u001b[0;34m\u001b[0m\u001b[0;34m\u001b[0m\u001b[0m\n\u001b[1;32m      5\u001b[0m         \u001b[0;34m.\u001b[0m\u001b[0moption\u001b[0m\u001b[0;34m(\u001b[0m\u001b[0;34m\"header\"\u001b[0m\u001b[0;34m,\u001b[0m \u001b[0;34m\"true\"\u001b[0m\u001b[0;34m)\u001b[0m\u001b[0;31m \u001b[0m\u001b[0;31m\\\u001b[0m\u001b[0;34m\u001b[0m\u001b[0;34m\u001b[0m\u001b[0m\n",
      "\u001b[0;31mNameError\u001b[0m: name 'train_data' is not defined"
     ]
    }
   ],
   "source": [
    "train_data.coalesce(1) \\\n",
    "        .write \\\n",
    "        .mode(\"overwrite\") \\\n",
    "        .format(\"csv\") \\\n",
    "        .option(\"header\", \"true\") \\\n",
    "        .save(project/data/train)\n"
   ]
  },
  {
   "cell_type": "code",
   "execution_count": 45,
   "id": "67814438-7630-405f-827d-44a8711850c1",
   "metadata": {},
   "outputs": [
    {
     "name": "stdout",
     "output_type": "stream",
     "text": [
      "Root Mean Squared Error (RMSE) on test data = 20.73005414806081\n"
     ]
    }
   ],
   "source": [
    "# Train the model\n",
    "model_rf = pipeline_rf.fit(train_data)\n",
    "\n",
    "# Make predictions\n",
    "predictions_rf = model_rf.transform(test_data)\n",
    "\n",
    "# Evaluate the model\n",
    "evaluator_rf = RegressionEvaluator(labelCol=label_col, predictionCol=\"prediction\", metricName=\"rmse\")\n",
    "rmse_rf = evaluator_rf.evaluate(predictions_rf)\n",
    "print(\"Root Mean Squared Error (RMSE) on test data =\", rmse_rf)\n",
    "\n",
    "# # Save the model to HDFS\n",
    "# model.write().overwrite().save(\"project/models/random_forest_model\")\n",
    "\n",
    "# # Show predictions\n",
    "# predictions.select(\"features\", label_col, \"prediction\").show()\n"
   ]
  },
  {
   "cell_type": "code",
   "execution_count": 46,
   "id": "dc62cc32-723f-4254-9be5-7277bba744e4",
   "metadata": {},
   "outputs": [
    {
     "name": "stdout",
     "output_type": "stream",
     "text": [
      "+--------------------+---------------------+------------------+\n",
      "|            features|suppression_personnel|        prediction|\n",
      "+--------------------+---------------------+------------------+\n",
      "|(493,[1,360,492],...|                   11| 9.784646947067436|\n",
      "|(493,[30,360,492]...|                   10| 9.784646947067436|\n",
      "|(493,[88,364,492]...|                    9| 9.485030821668188|\n",
      "|(493,[33,363,492]...|                   36| 32.44113568296874|\n",
      "|(493,[77,360,492]...|                   10| 9.784646947067436|\n",
      "|(493,[2,359,491,4...|                   32| 27.95744718708993|\n",
      "|(493,[17,362,491,...|                   31|27.877863349097048|\n",
      "|(493,[15,368,492]...|                    4|  4.94548707390833|\n",
      "|(493,[9,364,492],...|                   13| 9.554213967526518|\n",
      "|(493,[70,359,492]...|                    4| 5.385358901475638|\n",
      "|(493,[44,369,491,...|                    4| 5.752648313007476|\n",
      "|(493,[189,373,491...|                   15|10.806308274759825|\n",
      "|(493,[37,359,492]...|                   11| 9.537772521219177|\n",
      "|(493,[10,373,491,...|                    4|5.6759265955922125|\n",
      "|(493,[15,368,492]...|                    4|  4.94548707390833|\n",
      "|(493,[12,359,492]...|                   10|10.777711198687795|\n",
      "|(493,[6,366,492],...|                    5| 5.086142533866207|\n",
      "|(493,[32,373,491,...|                    4| 6.027153293397375|\n",
      "|(493,[44,369,491,...|                    4| 5.752648313007476|\n",
      "|(493,[2,359,492],...|                   10| 9.537772521219177|\n",
      "+--------------------+---------------------+------------------+\n",
      "only showing top 20 rows\n",
      "\n"
     ]
    }
   ],
   "source": [
    "predictions.select(\"features\", label_col, \"prediction\").show()"
   ]
  },
  {
   "cell_type": "code",
   "execution_count": 47,
   "id": "7eade2c2-5718-44fa-ac20-ff10c51ffbd4",
   "metadata": {},
   "outputs": [],
   "source": [
    "model_rf.write().overwrite().save(\"bigdata-final-project-iu-2024/models/random_forest_model\")"
   ]
  },
  {
   "cell_type": "code",
   "execution_count": 56,
   "id": "d200117c-3d61-481c-8cd1-fa8b32ca9cbb",
   "metadata": {},
   "outputs": [
    {
     "name": "stdout",
     "output_type": "stream",
     "text": [
      "Root Mean Squared Error (RMSE) on test data with best model = 15.1041566410023\n"
     ]
    }
   ],
   "source": [
    "from pyspark.ml.tuning import ParamGridBuilder, CrossValidator\n",
    "import numpy as np\n",
    "\n",
    "# Define a smaller grid of hyperparameters\n",
    "param_grid_rf = ParamGridBuilder() \\\n",
    "    .addGrid(rf.maxDepth, [2, 5]) \\\n",
    "    .addGrid(rf.numTrees, [5, 10]) \\\n",
    "    .build()\n",
    "\n",
    "# Reduce the number of folds in cross-validation\n",
    "num_folds = 3  # You can decrease this number to reduce computation time\n",
    "\n",
    "# Set up cross-validation with reduced grid and folds\n",
    "crossval_rf = CrossValidator(estimator=pipeline_rf,\n",
    "                          estimatorParamMaps=param_grid_rf,\n",
    "                          parallelism=5,\n",
    "                          evaluator=evaluator_rf,\n",
    "                          numFolds=num_folds)\n",
    "\n",
    "# Run cross-validation, and choose the best set of parameters\n",
    "cv_model_rf = crossval_rf.fit(train_data)\n",
    "\n",
    "# Get the best model from cross-validation\n",
    "best_model_rf = cv_model_rf.bestModel\n",
    "\n",
    "# Make predictions using the best model\n",
    "predictions_rf_1 = best_model_rf.transform(test_data)\n",
    "\n",
    "# Evaluate the best model\n",
    "rmse_best_rf = evaluator_rf.evaluate(predictions_rf_1)\n",
    "print(\"Root Mean Squared Error (RMSE) on test data with best model =\", rmse_best_rf)\n"
   ]
  },
  {
   "cell_type": "code",
   "execution_count": 19,
   "id": "b3e35cdf-0997-4a81-887f-f603a4542c6e",
   "metadata": {},
   "outputs": [
    {
     "name": "stdout",
     "output_type": "stream",
     "text": [
      "{}\n"
     ]
    }
   ],
   "source": [
    "# from pprint import pprint\n",
    "# pprint(best_model.extractParamMap())"
   ]
  },
  {
   "cell_type": "code",
   "execution_count": 50,
   "id": "07771c43-c047-4769-9a33-54eb96214bc8",
   "metadata": {},
   "outputs": [
    {
     "name": "stdout",
     "output_type": "stream",
     "text": [
      "PipelineModel_7d7ffff5f65b\n",
      "\n",
      "Stage: StringIndexerModel: uid=StringIndexer_3a376e709b9f, handleInvalid=keep\n",
      "Parameters:\n",
      "{Param(parent='StringIndexer_3a376e709b9f', name='stringOrderType', doc='How to order labels of string column. The first label after ordering is assigned an index of 0. Supported options: frequencyDesc, frequencyAsc, alphabetDesc, alphabetAsc. Default is frequencyDesc. In case of equal frequency when under frequencyDesc/Asc, the strings are further sorted alphabetically'): 'frequencyDesc',\n",
      " Param(parent='StringIndexer_3a376e709b9f', name='handleInvalid', doc=\"how to handle invalid data (unseen or NULL values) in features and label column of string type. Options are 'skip' (filter out rows with invalid data), error (throw an error), or 'keep' (put invalid data in a special additional bucket, at index numLabels).\"): 'keep',\n",
      " Param(parent='StringIndexer_3a376e709b9f', name='outputCol', doc='output column name.'): 'primary_situation_indexed',\n",
      " Param(parent='StringIndexer_3a376e709b9f', name='inputCol', doc='input column name.'): 'primary_situation'}\n",
      "\n",
      "Stage: StringIndexerModel: uid=StringIndexer_1225da1b3c0b, handleInvalid=keep\n",
      "Parameters:\n",
      "{Param(parent='StringIndexer_1225da1b3c0b', name='inputCol', doc='input column name.'): 'action_taken_primary',\n",
      " Param(parent='StringIndexer_1225da1b3c0b', name='outputCol', doc='output column name.'): 'action_taken_primary_indexed',\n",
      " Param(parent='StringIndexer_1225da1b3c0b', name='stringOrderType', doc='How to order labels of string column. The first label after ordering is assigned an index of 0. Supported options: frequencyDesc, frequencyAsc, alphabetDesc, alphabetAsc. Default is frequencyDesc. In case of equal frequency when under frequencyDesc/Asc, the strings are further sorted alphabetically'): 'frequencyDesc',\n",
      " Param(parent='StringIndexer_1225da1b3c0b', name='handleInvalid', doc=\"how to handle invalid data (unseen or NULL values) in features and label column of string type. Options are 'skip' (filter out rows with invalid data), error (throw an error), or 'keep' (put invalid data in a special additional bucket, at index numLabels).\"): 'keep'}\n",
      "\n",
      "Stage: OneHotEncoderModel: uid=OneHotEncoder_a85ad5fb0808, dropLast=true, handleInvalid=error\n",
      "Parameters:\n",
      "{Param(parent='OneHotEncoder_a85ad5fb0808', name='handleInvalid', doc=\"How to handle invalid data during transform(). Options are 'keep' (invalid data presented as an extra categorical feature) or error (throw an error). Note that this Param is only used during transform; during fitting, invalid data will result in an error.\"): 'error',\n",
      " Param(parent='OneHotEncoder_a85ad5fb0808', name='dropLast', doc='whether to drop the last category'): True,\n",
      " Param(parent='OneHotEncoder_a85ad5fb0808', name='outputCol', doc='output column name.'): 'primary_situation_indexed_encoded',\n",
      " Param(parent='OneHotEncoder_a85ad5fb0808', name='inputCol', doc='input column name.'): 'primary_situation_indexed'}\n",
      "\n",
      "Stage: OneHotEncoderModel: uid=OneHotEncoder_b503ca8e2f45, dropLast=true, handleInvalid=error\n",
      "Parameters:\n",
      "{Param(parent='OneHotEncoder_b503ca8e2f45', name='inputCol', doc='input column name.'): 'action_taken_primary_indexed',\n",
      " Param(parent='OneHotEncoder_b503ca8e2f45', name='handleInvalid', doc=\"How to handle invalid data during transform(). Options are 'keep' (invalid data presented as an extra categorical feature) or error (throw an error). Note that this Param is only used during transform; during fitting, invalid data will result in an error.\"): 'error',\n",
      " Param(parent='OneHotEncoder_b503ca8e2f45', name='dropLast', doc='whether to drop the last category'): True,\n",
      " Param(parent='OneHotEncoder_b503ca8e2f45', name='outputCol', doc='output column name.'): 'action_taken_primary_indexed_encoded'}\n",
      "\n",
      "Stage: VectorAssembler_4ecd35fa602f\n",
      "Parameters:\n",
      "{Param(parent='VectorAssembler_4ecd35fa602f', name='handleInvalid', doc=\"How to handle invalid data (NULL and NaN values). Options are 'skip' (filter out rows with invalid data), 'error' (throw an error), or 'keep' (return relevant number of NaN in the output). Column lengths are taken from the size of ML Attribute Group, which can be set using `VectorSizeHint` in a pipeline before `VectorAssembler`. Column lengths can also be inferred from first rows of the data since it is safe to do so but only in case of 'error' or 'skip').\"): 'error',\n",
      " Param(parent='VectorAssembler_4ecd35fa602f', name='inputCols', doc='input column names.'): ['primary_situation_indexed_encoded',\n",
      "                                                                                             'action_taken_primary_indexed_encoded',\n",
      "                                                                                             'ems_units',\n",
      "                                                                                             'suppression_units'],\n",
      " Param(parent='VectorAssembler_4ecd35fa602f', name='outputCol', doc='output column name.'): 'features'}\n",
      "\n",
      "Stage: RandomForestRegressionModel: uid=RandomForestRegressor_1e45150ea5f8, numTrees=20, numFeatures=493\n",
      "Parameters:\n",
      "{Param(parent='RandomForestRegressor_1e45150ea5f8', name='bootstrap', doc='Whether bootstrap samples are used when building trees.'): True,\n",
      " Param(parent='RandomForestRegressor_1e45150ea5f8', name='minInstancesPerNode', doc='Minimum number of instances each child must have after split. If a split causes the left or right child to have fewer than minInstancesPerNode, the split will be discarded as invalid. Should be >= 1.'): 1,\n",
      " Param(parent='RandomForestRegressor_1e45150ea5f8', name='featureSubsetStrategy', doc=\"The number of features to consider for splits at each tree node. Supported options: 'auto' (choose automatically for task: If numTrees == 1, set to 'all'. If numTrees > 1 (forest), set to 'sqrt' for classification and to 'onethird' for regression), 'all' (use all features), 'onethird' (use 1/3 of the features), 'sqrt' (use sqrt(number of features)), 'log2' (use log2(number of features)), 'n' (when n is in the range (0, 1.0], use n * number of features. When n is in the range (1, number of features), use n features). default = 'auto'\"): 'auto',\n",
      " Param(parent='RandomForestRegressor_1e45150ea5f8', name='labelCol', doc='label column name.'): 'suppression_personnel',\n",
      " Param(parent='RandomForestRegressor_1e45150ea5f8', name='featuresCol', doc='features column name.'): 'features',\n",
      " Param(parent='RandomForestRegressor_1e45150ea5f8', name='minInfoGain', doc='Minimum information gain for a split to be considered at a tree node.'): 0.0,\n",
      " Param(parent='RandomForestRegressor_1e45150ea5f8', name='minWeightFractionPerNode', doc='Minimum fraction of the weighted sample count that each child must have after split. If a split causes the fraction of the total weight in the left or right child to be less than minWeightFractionPerNode, the split will be discarded as invalid. Should be in interval [0.0, 0.5).'): 0.0,\n",
      " Param(parent='RandomForestRegressor_1e45150ea5f8', name='leafCol', doc='Leaf indices column name. Predicted leaf index of each instance in each tree by preorder.'): '',\n",
      " Param(parent='RandomForestRegressor_1e45150ea5f8', name='seed', doc='random seed.'): -1010958787836028720,\n",
      " Param(parent='RandomForestRegressor_1e45150ea5f8', name='predictionCol', doc='prediction column name.'): 'prediction',\n",
      " Param(parent='RandomForestRegressor_1e45150ea5f8', name='maxMemoryInMB', doc='Maximum memory in MB allocated to histogram aggregation. If too small, then 1 node will be split per iteration, and its aggregates may exceed this size.'): 256,\n",
      " Param(parent='RandomForestRegressor_1e45150ea5f8', name='impurity', doc='Criterion used for information gain calculation (case-insensitive). Supported options: variance'): 'variance',\n",
      " Param(parent='RandomForestRegressor_1e45150ea5f8', name='numTrees', doc='Number of trees to train (>= 1).'): 20,\n",
      " Param(parent='RandomForestRegressor_1e45150ea5f8', name='subsamplingRate', doc='Fraction of the training data used for learning each decision tree, in range (0, 1].'): 1.0,\n",
      " Param(parent='RandomForestRegressor_1e45150ea5f8', name='maxBins', doc='Max number of bins for discretizing continuous features.  Must be >=2 and >= number of categories for any categorical feature.'): 32,\n",
      " Param(parent='RandomForestRegressor_1e45150ea5f8', name='maxDepth', doc='Maximum depth of the tree. (>= 0) E.g., depth 0 means 1 leaf node; depth 1 means 1 internal node + 2 leaf nodes. Must be in range [0, 30].'): 5,\n",
      " Param(parent='RandomForestRegressor_1e45150ea5f8', name='checkpointInterval', doc='set checkpoint interval (>= 1) or disable checkpoint (-1). E.g. 10 means that the cache will get checkpointed every 10 iterations. Note: this setting will be ignored if the checkpoint directory is not set in the SparkContext.'): 10,\n",
      " Param(parent='RandomForestRegressor_1e45150ea5f8', name='cacheNodeIds', doc='If false, the algorithm will pass trees to executors to match instances with nodes. If true, the algorithm will cache node IDs for each instance. Caching can speed up training of deeper trees. Users can set how often should the cache be checkpointed or disable it by setting checkpointInterval.'): False}\n"
     ]
    }
   ],
   "source": [
    "print(best_model_rf)\n",
    "\n",
    "# Get all stages in the pipeline\n",
    "stages = best_model_rf.stages\n",
    "\n",
    "# Loop through each stage and print its parameters\n",
    "for stage in stages:\n",
    "    print(\"\\nStage:\", stage)\n",
    "    print(\"Parameters:\")\n",
    "    pprint(stage.extractParamMap())\n"
   ]
  },
  {
   "cell_type": "code",
   "execution_count": 55,
   "id": "d64dc554-bb23-4af4-9b07-30b76a083b3a",
   "metadata": {},
   "outputs": [],
   "source": [
    "best_model_rf.write().overwrite().save(\"bigdata-final-project-iu-2024/models/best_random_forest_model\")\n",
    "model_rf.write().overwrite().save(\"bigdata-final-project-iu-2024/models/random_forest_model\")"
   ]
  },
  {
   "cell_type": "code",
   "execution_count": 57,
   "id": "880b6e28-655d-433c-b564-f90fdddc0d17",
   "metadata": {},
   "outputs": [
    {
     "name": "stdout",
     "output_type": "stream",
     "text": [
      "LR Root Mean Squared Error (RMSE) on test data = 21.72004146999492\n",
      "+--------------------+---------------------+------------------+\n",
      "|            features|suppression_personnel|        prediction|\n",
      "+--------------------+---------------------+------------------+\n",
      "|(491,[5,358,490],...|                   10|10.549927699424934|\n",
      "|(491,[6,364,490],...|                    5| 5.096838153382047|\n",
      "|(491,[87,364,490]...|                    4|  4.42366982464413|\n",
      "|(491,[83,397,489,...|                    4| 9.058906186868613|\n",
      "|(491,[10,367,489,...|                    4|7.2397696420814315|\n",
      "|(491,[6,358,490],...|                   18| 8.346083669589452|\n",
      "|(491,[24,371,489,...|                   13|   11.816938990827|\n",
      "|(491,[24,374,489,...|                    4|   8.5115930319179|\n",
      "|(491,[181,446,489...|                   23|  19.1192417139655|\n",
      "|(491,[125,385,490...|                    5| 5.276713346653884|\n",
      "|(491,[1,358,490],...|                   15|11.432131410223224|\n",
      "|(491,[10,369,490]...|                    8| 3.585293151004089|\n",
      "|(491,[85,362,489,...|                    4| 9.777789785812395|\n",
      "|(491,[10,393,489,...|                   14|10.545878041753536|\n",
      "|(491,[31,367,489,...|                    4| 5.000683324266045|\n",
      "|(491,[46,362,489,...|                   19| 13.99689276394405|\n",
      "|(491,[46,369,489,...|                    4| 6.056053967694702|\n",
      "|(491,[46,446,489,...|                   22|11.925413727813613|\n",
      "|(491,[49,460,490]...|                    5| 7.375978783766459|\n",
      "|(491,[10,380,489,...|                   14| 7.179221289972515|\n",
      "+--------------------+---------------------+------------------+\n",
      "only showing top 20 rows\n",
      "\n"
     ]
    }
   ],
   "source": [
    "from pyspark.ml.regression import LinearRegression\n",
    "from pyspark.ml.feature import StringIndexer, OneHotEncoder, VectorAssembler\n",
    "from pyspark.ml import Pipeline\n",
    "from pyspark.ml.evaluation import RegressionEvaluator\n",
    "import pyspark.sql.functions as F\n",
    "from pyspark.sql import SparkSession\n",
    "\n",
    "# Assuming SparkSession is already created, if not, create one\n",
    "spark = SparkSession.builder \\\n",
    "    .appName(\"LinearRegressionExample\") \\\n",
    "    .getOrCreate()\n",
    "\n",
    "# Select relevant columns\n",
    "features = ['incident_number', 'primary_situation',\n",
    "            'ems_units', 'suppression_units', 'action_taken_primary']\n",
    "label_col = 'suppression_personnel'\n",
    "\n",
    "# Load your data here, assuming it's loaded into the DataFrame 'inc_part'\n",
    "\n",
    "df = inc_part.select(features + [label_col])\n",
    "\n",
    "for col_name in ['primary_situation', 'action_taken_primary']:\n",
    "    df = df.withColumn(col_name, F.translate(col_name, \"'\", \"\"))\n",
    "\n",
    "df = df.withColumn('incident_number', df['incident_number'].cast('string'))\n",
    "df = df.withColumn('ems_units', df['ems_units'].cast('integer'))\n",
    "df = df.withColumn('suppression_units', df['suppression_units'].cast('integer'))\n",
    "\n",
    "df = df.dropna(subset=features + [label_col])\n",
    "df = df.filter(col(\"suppression_personnel\") > 0)\n",
    "\n",
    "# Create string indexers for categorical columns\n",
    "indexers = [StringIndexer(inputCol=col_name, outputCol=f\"{col_name}_indexed\", handleInvalid=\"keep\") for col_name in ['primary_situation', 'action_taken_primary']]\n",
    "\n",
    "# Apply one-hot encoding to indexed categorical columns\n",
    "encoders = [OneHotEncoder(inputCol=indexer.getOutputCol(), outputCol=f\"{indexer.getOutputCol()}_encoded\") for indexer in indexers]\n",
    "\n",
    "# Assemble features into a single vector\n",
    "assembler = VectorAssembler(inputCols=[encoder.getOutputCol() for encoder in encoders] + ['ems_units', 'suppression_units'], outputCol=\"features\")\n",
    "\n",
    "# Define the Linear Regression model\n",
    "lr = LinearRegression(featuresCol=\"features\", labelCol=label_col)\n",
    "\n",
    "# Create the pipeline\n",
    "pipeline_lr = Pipeline(stages=indexers + encoders + [assembler, lr])\n",
    "\n",
    "# Split the data into training and testing sets\n",
    "(train_data, test_data) = df.randomSplit([0.6, 0.4], seed=10)\n",
    "\n",
    "# Train the model\n",
    "model_lr = pipeline_lr.fit(train_data)\n",
    "\n",
    "# Make predictions\n",
    "predictions_lr = model_lr.transform(test_data)\n",
    "\n",
    "# Evaluate the model\n",
    "evaluator_lr = RegressionEvaluator(labelCol=label_col, predictionCol=\"prediction\", metricName=\"rmse\")\n",
    "rmse_lr = evaluator_lr.evaluate(predictions_lr)\n",
    "print(\"LR Root Mean Squared Error (RMSE) on test data =\", rmse_lr)\n",
    "\n",
    "# Save the model to HDFS if needed\n",
    "# model.write().overwrite().save(\"project/models/linear_regression_model\")\n",
    "\n",
    "# Show predictions\n",
    "predictions_lr.select(\"features\", label_col, \"prediction\").show()\n"
   ]
  },
  {
   "cell_type": "code",
   "execution_count": 58,
   "id": "88234a86-de56-4525-a4aa-1c1af00617e4",
   "metadata": {},
   "outputs": [],
   "source": [
    "model_lr.write().overwrite().save(\"project/models/linear_regression_model\")"
   ]
  },
  {
   "cell_type": "code",
   "execution_count": 61,
   "id": "832150f8-7711-4ae3-95a7-965b5c993062",
   "metadata": {},
   "outputs": [
    {
     "name": "stdout",
     "output_type": "stream",
     "text": [
      "Root Mean Squared Error (RMSE) on test data with the best Linear Regression model = 13.712265599995495\n"
     ]
    }
   ],
   "source": [
    "# Define hyperparameter grid\n",
    "paramGrid_lr = ParamGridBuilder() \\\n",
    "    .addGrid(lr.regParam, [0.01, 0.2]) \\\n",
    "    .addGrid(lr.elasticNetParam, [0.0, 0.5]) \\\n",
    "    .build()\n",
    "\n",
    "# Define cross-validator\n",
    "crossval_lr = CrossValidator(estimator=pipeline_lr,\n",
    "                          estimatorParamMaps=paramGrid_lr,\n",
    "                          evaluator=evaluator_lr,\n",
    "                          parallelism=5,\n",
    "                          numFolds=3)  # 3-fold cross-validation\n",
    "\n",
    "# Fit the model\n",
    "cvModel_lr = crossval_lr.fit(train_data)\n",
    "\n",
    "# Get the best model\n",
    "bestModel_lr = cvModel_lr.bestModel\n",
    "\n",
    "# Make predictions\n",
    "predictions_lr_1 = bestModel_lr.transform(test_data)\n",
    "\n",
    "# Evaluate the model\n",
    "rmse_lr_1 = evaluator_lr.evaluate(predictions_lr_1)\n",
    "print(\"Root Mean Squared Error (RMSE) on test data with the best Linear Regression model =\", rmse_lr_1)\n"
   ]
  },
  {
   "cell_type": "code",
   "execution_count": 62,
   "id": "e8e806fc-e34a-45e1-8774-7fdbf8df253b",
   "metadata": {},
   "outputs": [
    {
     "name": "stdout",
     "output_type": "stream",
     "text": [
      "RMSE of original Linear Regression model: 17.598166590275103\n",
      "RMSE of best Linear Regression model: 23.606257612306948\n"
     ]
    }
   ],
   "source": [
    "bestModel_lr.write().overwrite().save(\"project/models/linear_regression_model_2\")\n",
    "\n",
    "# Compare the best model with the original model\n",
    "original_rmse = evaluator_lr.evaluate(predictions_lr)\n",
    "best_rmse = evaluator_lr.evaluate(bestModel_lr.transform(test_data))\n",
    "print(\"RMSE of original Linear Regression model:\", original_rmse)\n",
    "print(\"RMSE of best Linear Regression model:\", best_rmse)"
   ]
  },
  {
   "cell_type": "code",
   "execution_count": 63,
   "id": "677b4564-ff48-43cc-80e8-87a093fe88ee",
   "metadata": {},
   "outputs": [
    {
     "name": "stdout",
     "output_type": "stream",
     "text": [
      "RMSE of original Linear Regression model: 13.20651221316866\n",
      "RMSE of best Linear Regression model: 20.719865723137445\n"
     ]
    }
   ],
   "source": [
    "original_rmse_rf = evaluator_rf.evaluate(predictions_rf)\n",
    "best_rmse_rf = evaluator_rf.evaluate(best_model_rf.transform(test_data))\n",
    "print(\"RMSE of original Linear Regression model:\", original_rmse_rf)\n",
    "print(\"RMSE of best Linear Regression model:\", best_rmse_rf)"
   ]
  },
  {
   "cell_type": "code",
   "execution_count": 64,
   "id": "012ee070-93d8-4f5c-9d41-3ba845530fc6",
   "metadata": {},
   "outputs": [
    {
     "name": "stdout",
     "output_type": "stream",
     "text": [
      "+-----------------+------------------+------------------+-------------------+\n",
      "|Model            |Original RMSE     |Best RMSE         |R2                 |\n",
      "+-----------------+------------------+------------------+-------------------+\n",
      "|Linear Regression|17.598166590275103|23.606257612306948|0.09056708406716996|\n",
      "|Random Forest    |13.20651221316866 |20.719865723137445|0.6314368954792652 |\n",
      "+-----------------+------------------+------------------+-------------------+\n",
      "\n"
     ]
    }
   ],
   "source": [
    "# Calculate R2 for Linear Regression\n",
    "evaluator_r2_lr = RegressionEvaluator(labelCol=label_col, predictionCol=\"prediction\", metricName=\"r2\")\n",
    "r2_lr = evaluator_r2_lr.evaluate(predictions_lr)\n",
    "\n",
    "# Calculate R2 for Random Forest\n",
    "evaluator_r2_rf = RegressionEvaluator(labelCol=label_col, predictionCol=\"prediction\", metricName=\"r2\")\n",
    "r2_rf = evaluator_r2_rf.evaluate(predictions_rf)\n",
    "\n",
    "# Create data frame to report performance of the models\n",
    "models_comparison = [\n",
    "    [\"Linear Regression\", original_rmse, best_rmse, r2_lr],\n",
    "    [\"Random Forest\", original_rmse_rf, best_rmse_rf, r2_rf]\n",
    "]\n",
    "\n",
    "df_comparison = spark.createDataFrame(models_comparison, [\"Model\", \"Original RMSE\", \"Best RMSE\", \"R2\"])\n",
    "df_comparison.show(truncate=False)\n"
   ]
  }
 ],
 "metadata": {
  "kernelspec": {
   "display_name": "Pyspark 3",
   "language": "python",
   "name": "python3"
  },
  "language_info": {
   "codemirror_mode": {
    "name": "ipython",
    "version": 3
   },
   "file_extension": ".py",
   "mimetype": "text/x-python",
   "name": "python",
   "nbconvert_exporter": "python",
   "pygments_lexer": "ipython3",
   "version": "3.6.8"
  },
  "toc-autonumbering": false
 },
 "nbformat": 4,
 "nbformat_minor": 5
}
