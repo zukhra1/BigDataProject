{
 "cells": [
  {
   "cell_type": "markdown",
   "id": "0635285d-5589-4eeb-9091-9dd2143b3492",
   "metadata": {
    "tags": []
   },
   "source": [
    "# Connect to Hive"
   ]
  },
  {
   "cell_type": "code",
   "execution_count": 1,
   "id": "d4d77bfb-132e-422c-9933-69d0df5685dd",
   "metadata": {},
   "outputs": [],
   "source": [
    "from pyspark.sql import SparkSession\n",
    "\n",
    "# Add here your team number teamx\n",
    "team = \"team4\"\n",
    "\n",
    "# location of your Hive database in HDFS\n",
    "warehouse = \"project/hive/warehouse\"\n",
    "\n",
    "spark = SparkSession.builder\\\n",
    "        .appName(\"{} - spark ML\".format(team))\\\n",
    "        .master(\"yarn\")\\\n",
    "        .config(\"hive.metastore.uris\", \"thrift://hadoop-02.uni.innopolis.ru:9883\")\\\n",
    "        .config(\"spark.sql.warehouse.dir\", warehouse)\\\n",
    "        .config(\"spark.sql.avro.compression.codec\", \"snappy\")\\\n",
    "        .enableHiveSupport()\\\n",
    "        .getOrCreate()\n",
    "\n",
    "sc = spark.sparkContext"
   ]
  },
  {
   "cell_type": "code",
   "execution_count": 2,
   "id": "ab0a0875-0d8c-4f48-a65b-230e11c46d38",
   "metadata": {},
   "outputs": [
    {
     "data": {
      "text/html": [
       "\n",
       "            <div>\n",
       "                <p><b>SparkSession - hive</b></p>\n",
       "                \n",
       "        <div>\n",
       "            <p><b>SparkContext</b></p>\n",
       "\n",
       "            <p><a href=\"http://hadoop-01.uni.innopolis.ru:4140\">Spark UI</a></p>\n",
       "\n",
       "            <dl>\n",
       "              <dt>Version</dt>\n",
       "                <dd><code>v3.2.4</code></dd>\n",
       "              <dt>Master</dt>\n",
       "                <dd><code>yarn</code></dd>\n",
       "              <dt>AppName</dt>\n",
       "                <dd><code>team4 - spark ML</code></dd>\n",
       "            </dl>\n",
       "        </div>\n",
       "        \n",
       "            </div>\n",
       "        "
      ],
      "text/plain": [
       "<pyspark.sql.session.SparkSession at 0x7f17bbbb19b0>"
      ]
     },
     "execution_count": 2,
     "metadata": {},
     "output_type": "execute_result"
    }
   ],
   "source": [
    "spark"
   ]
  },
  {
   "cell_type": "markdown",
   "id": "ebbc89ee-c475-47d1-b000-a800563a8870",
   "metadata": {},
   "source": [
    "# list Hive databases"
   ]
  },
  {
   "cell_type": "code",
   "execution_count": 3,
   "id": "e2631136-e462-4815-a807-d1bd4bc3f7a8",
   "metadata": {},
   "outputs": [
    {
     "name": "stdout",
     "output_type": "stream",
     "text": [
      "[Database(name='default', description='Default Hive database', locationUri='hdfs://hadoop-02.uni.innopolis.ru:8020/apps/hive/warehouse'), Database(name='root_db', description='', locationUri='hdfs://hadoop-02.uni.innopolis.ru:8020/user/root/root_db'), Database(name='team0_projectdb', description='', locationUri='hdfs://hadoop-02.uni.innopolis.ru:8020/user/team0/project/hive/warehouse'), Database(name='team12_hive_projectdb', description='', locationUri='hdfs://hadoop-02.uni.innopolis.ru:8020/user/team12/project/hive/warehouse'), Database(name='team13_projectdb', description='', locationUri='hdfs://hadoop-02.uni.innopolis.ru:8020/user/team13/project/hive/warehouse'), Database(name='team14_projectdb', description='', locationUri='hdfs://hadoop-02.uni.innopolis.ru:8020/user/team14/project/hive/warehouse'), Database(name='team15_projectdb', description='', locationUri='hdfs://hadoop-02.uni.innopolis.ru:8020/user/team15/project/hive/warehouse'), Database(name='team16_projectdb', description='', locationUri='hdfs://hadoop-02.uni.innopolis.ru:8020/user/team16/project/hive/warehouse'), Database(name='team17_projectdb', description='', locationUri='hdfs://hadoop-02.uni.innopolis.ru:8020/user/team17/project/hive/warehouse'), Database(name='team18_projectdb', description='', locationUri='hdfs://hadoop-02.uni.innopolis.ru:8020/user/team18/project/hive/warehouse'), Database(name='team19_projectdb', description='', locationUri='hdfs://hadoop-02.uni.innopolis.ru:8020/user/team19/project/hive/warehouse'), Database(name='team1_projectdb', description='', locationUri='hdfs://hadoop-02.uni.innopolis.ru:8020/user/team1/project/hive/warehouse'), Database(name='team20_projectdb', description='', locationUri='hdfs://hadoop-02.uni.innopolis.ru:8020/user/team20/project/hive/warehouse'), Database(name='team21_projectdb', description='', locationUri='hdfs://hadoop-02.uni.innopolis.ru:8020/user/team21/project/hive/warehouse'), Database(name='team22_projectdb', description='', locationUri='hdfs://hadoop-02.uni.innopolis.ru:8020/user/team22/project/hive/warehouse'), Database(name='team23_projectdb', description='', locationUri='hdfs://hadoop-02.uni.innopolis.ru:8020/user/team23/project/hive/warehouse'), Database(name='team24_projectdb', description='', locationUri='hdfs://hadoop-02.uni.innopolis.ru:8020/user/team24/project/hive/warehouse'), Database(name='team25_projectdb', description='', locationUri='hdfs://hadoop-02.uni.innopolis.ru:8020/user/team25/project/hive/warehouse'), Database(name='team26_projectdb', description='', locationUri='hdfs://hadoop-02.uni.innopolis.ru:8020/user/team26/project/hive/warehouse'), Database(name='team27_projectdb', description='', locationUri='hdfs://hadoop-02.uni.innopolis.ru:8020/user/team27/project/hive/warehouse'), Database(name='team28_projectdb', description='', locationUri='hdfs://hadoop-02.uni.innopolis.ru:8020/user/team28/project/hive/warehouse'), Database(name='team29_projectdb', description='', locationUri='hdfs://hadoop-02.uni.innopolis.ru:8020/user/team29/project/hive/warehouse'), Database(name='team2_projectdb', description='', locationUri='hdfs://hadoop-02.uni.innopolis.ru:8020/user/team2/project/hive/warehouse'), Database(name='team30_projectdb', description='', locationUri='hdfs://hadoop-02.uni.innopolis.ru:8020/user/team30/project/hive/warehouse'), Database(name='team31_projectdb', description='', locationUri='hdfs://hadoop-02.uni.innopolis.ru:8020/user/team31/project/hive/warehouse'), Database(name='team3_projectdb', description='', locationUri='hdfs://hadoop-02.uni.innopolis.ru:8020/user/team3/project/hive/warehouse'), Database(name='team4_projectdb', description='', locationUri='hdfs://hadoop-02.uni.innopolis.ru:8020/user/team4/project/hive/warehouse'), Database(name='team5_projectdb', description='', locationUri='hdfs://hadoop-02.uni.innopolis.ru:8020/user/team5/project/hive/warehouse'), Database(name='team6_projectdb', description='', locationUri='hdfs://hadoop-02.uni.innopolis.ru:8020/user/team6/project/hive/warehouse'), Database(name='team7_projectdb', description='', locationUri='hdfs://hadoop-02.uni.innopolis.ru:8020/user/team7/project/hive/warehouse'), Database(name='team8_projectdb', description='', locationUri='hdfs://hadoop-02.uni.innopolis.ru:8020/user/team8/project/hive/warehouse'), Database(name='team9_projectdb', description='', locationUri='hdfs://hadoop-02.uni.innopolis.ru:8020/user/team9/project/hive/warehouse'), Database(name='testdb', description='', locationUri='hdfs://hadoop-02.uni.innopolis.ru:8020/apps/hive/warehouse/testdb.db')]\n",
      "+--------------------+\n",
      "|           namespace|\n",
      "+--------------------+\n",
      "|             default|\n",
      "|             root_db|\n",
      "|     team0_projectdb|\n",
      "|team12_hive_proje...|\n",
      "|    team13_projectdb|\n",
      "|    team14_projectdb|\n",
      "|    team15_projectdb|\n",
      "|    team16_projectdb|\n",
      "|    team17_projectdb|\n",
      "|    team18_projectdb|\n",
      "|    team19_projectdb|\n",
      "|     team1_projectdb|\n",
      "|    team20_projectdb|\n",
      "|    team21_projectdb|\n",
      "|    team22_projectdb|\n",
      "|    team23_projectdb|\n",
      "|    team24_projectdb|\n",
      "|    team25_projectdb|\n",
      "|    team26_projectdb|\n",
      "|    team27_projectdb|\n",
      "+--------------------+\n",
      "only showing top 20 rows\n",
      "\n"
     ]
    }
   ],
   "source": [
    "print(spark.catalog.listDatabases())\n",
    "spark.sql(\"SHOW DATABASES;\").show()"
   ]
  },
  {
   "cell_type": "markdown",
   "id": "c69a1fe4-d2d3-4fb0-9533-59f61a917d05",
   "metadata": {},
   "source": [
    "# Specify the input and output features"
   ]
  },
  {
   "cell_type": "code",
   "execution_count": 4,
   "id": "018f48d1-6fde-4ff5-b7ce-4eed719a7774",
   "metadata": {},
   "outputs": [],
   "source": [
    "features = ['incident_number', 'primary_situation',\n",
    "                'ems_units', 'suppression_units', 'action_taken_primary']\n",
    "label= 'suppression_personnel'"
   ]
  },
  {
   "cell_type": "markdown",
   "id": "2f5bf565-af4e-49d4-bf45-ca1e1baf971f",
   "metadata": {},
   "source": [
    "# Read hive tables"
   ]
  },
  {
   "cell_type": "code",
   "execution_count": 5,
   "id": "3376ccfd-3045-4c2d-9800-19ea2da702b3",
   "metadata": {},
   "outputs": [],
   "source": [
    "inc_part = spark.read.format(\"avro\").table('team4_projectdb.incidents_part')"
   ]
  },
  {
   "cell_type": "code",
   "execution_count": 6,
   "id": "662a1c70-3549-484c-99b9-00631ccfbc08",
   "metadata": {},
   "outputs": [
    {
     "name": "stdout",
     "output_type": "stream",
     "text": [
      "+---------------+---------------+---------+--------------------+--------------------+-----------+--------------------+--------------------+--------------------+-------+---------+------------+----+-----------------+---------------------+---------+-------------+-----------+---------------+-------------------+-----------------------+-----------------------+---------------+-------------+-------------------+-----------------+----------------+--------------------+----------+--------------------+----------------------+------------------+--------------------------+--------------------+-------------------+--------------+-----------------------+-------------------------+-----------+------------------+--------------------------------------+--------------+----------------+--------------------+-----------+---------------+------------------------------------+----------------------------------------+----------------------------------+------------------------------------+-----------------+-------------+------------------+----------------------+-----------------------+--------------------------------------+----------------------------------+----------------------------------------+--------------------------------------------+-----------------------------------+-------------------+---------------------+--------------------+--------------------+--------------------+--------------------+\n",
      "|incident_number|exposure_number|       id|             address|       incident_date|call_number|          alarm_dttm|        arrival_dttm|          close_dttm|zipcode|battalion|station_area| box|suppression_units|suppression_personnel|ems_units|ems_personnel|other_units|other_personnel|first_unit_on_scene|estimated_property_loss|estimated_contents_loss|fire_fatalities|fire_injuries|civilian_fatalities|civilian_injuries|number_of_alarms|   primary_situation|mutual_aid|action_taken_primary|action_taken_secondary|action_taken_other|detector_alerted_occupants|        property_use|area_of_fire_origin|ignition_cause|ignition_factor_primary|ignition_factor_secondary|heat_source|item_first_ignited|human_factors_associated_with_ignition|structure_type|structure_status|floor_of_fire_origin|fire_spread|no_flame_spread|number_of_floors_with_minimum_damage|number_of_floors_with_significant_damage|number_of_floors_with_heavy_damage|number_of_floors_with_extreme_damage|detectors_present|detector_type|detector_operation|detector_effectiveness|detector_failure_reason|automatic_extinguishing_system_present|automatic_extinguishing_sytem_type|automatic_extinguishing_sytem_perfomance|automatic_extinguishing_sytem_failure_reason|number_of_sprinkler_heads_operating|supervisor_district|neighborhood_district|               point|          data_as_of|      data_loaded_at|                city|\n",
      "+---------------+---------------+---------+--------------------+--------------------+-----------+--------------------+--------------------+--------------------+-------+---------+------------+----+-----------------+---------------------+---------+-------------+-----------+---------------+-------------------+-----------------------+-----------------------+---------------+-------------+-------------------+-----------------+----------------+--------------------+----------+--------------------+----------------------+------------------+--------------------------+--------------------+-------------------+--------------+-----------------------+-------------------------+-----------+------------------+--------------------------------------+--------------+----------------+--------------------+-----------+---------------+------------------------------------+----------------------------------------+----------------------------------+------------------------------------+-----------------+-------------+------------------+----------------------+-----------------------+--------------------------------------+----------------------------------+----------------------------------------+--------------------------------------------+-----------------------------------+-------------------+---------------------+--------------------+--------------------+--------------------+--------------------+\n",
      "|       14027372|              0|140273720|       625 13TH ST C|2014-03-22T00:00:...|  140810198|2014-03-22T14:06:...|2014-03-22T14:09:...|2014-03-22T14:48:...|  94130|      B03|          48|2931|               13|                   49|        2|            2|          1|              3|               null|                   null|                   null|              0|            0|                  0|                0|               1|150 Outside rubbi...|    N None|10 Fire control o...|                  null|              null|                      null|419 1 or 2 family...|               null|          null|                   null|                     null|       null|              null|                                  null|          null|            null|                null|       null|           null|                                null|                                    null|                              null|                                null|             null|         null|              null|                  null|                   null|                                  null|                              null|                                    null|                                        null|                               null|                6.0|      Treasure Island|POINT (-122.37153...|2014-03-22T14:48:...|2024-04-27T02:16:...|     TREASURE ISLAND|\n",
      "|       14028027|              0|140280270|2 AVENUE OF THE P...|2014-03-24T00:00:...|  140830229|2014-03-24T15:57:...|2014-03-24T16:05:...|2014-03-24T16:22:...|  94130|      B03|          48|2931|                1|                    3|        2|            2|          0|              0|               null|                   null|                   null|              0|            0|                  0|                0|               1|322 Motor vehicle...|    N None|33 Provide advanc...|                  null|              null|                      null|   960 Street, other|               null|          null|                   null|                     null|       null|              null|                                  null|          null|            null|                null|       null|           null|                                null|                                    null|                              null|                                null|             null|         null|              null|                  null|                   null|                                  null|                              null|                                    null|                                        null|                               null|                6.0|      Treasure Island|POINT (-122.37153...|2014-03-24T16:22:...|2024-04-27T02:16:...|     TREASURE ISLAND|\n",
      "|       14028981|              0|140289810| 351 AVENUE H BLD369|2014-03-27T00:00:...|  140860223|2014-03-27T15:57:...|2014-03-27T16:04:...|2014-03-27T16:14:...|  94130|      B03|          48|2931|                3|                   10|        0|            0|          0|              0|               null|                   null|                   null|              0|            0|                  0|                0|               1|745 Alarm system ...|    N None|      86 Investigate|                  null|              null|                      null| 599 Business office|               null|          null|                   null|                     null|       null|              null|                                  null|          null|            null|                null|       null|           null|                                null|                                    null|                              null|                                null|             null|         null|              null|                  null|                   null|                                  null|                              null|                                    null|                                        null|                               null|                6.0|      Treasure Island|POINT (-122.37153...|2014-03-27T16:14:...|2024-04-27T02:16:...|     TREASURE ISLAND|\n",
      "|       14036460|              0|140364600| 8TH ST AVENUE NORTH|2014-04-18T00:00:...|  141080253|2014-04-18T15:16:...|2014-04-18T15:23:...|2014-04-18T15:49:...|  94130|      B03|          48|2931|                1|                    4|        1|            1|          0|              0|               null|                   null|                   null|              0|            0|                  0|                0|               1|900 Special type ...|    N None|00 Action taken, ...|                  null|              null|                      null|000 Property Use,...|               null|          null|                   null|                     null|       null|              null|                                  null|          null|            null|                null|       null|           null|                                null|                                    null|                              null|                                null|             null|         null|              null|                  null|                   null|                                  null|                              null|                                    null|                                        null|                               null|                6.0|      Treasure Island|POINT (-122.37153...|2014-04-18T15:49:...|2024-04-27T02:16:...|     TREASURE ISLAND|\n",
      "|       14037916|              0|140379160|     1137 MASON CT D|2014-04-22T00:00:...|  141120325|2014-04-22T19:35:...|2014-04-22T19:43:...|2014-04-22T19:54:...|  94130|      B03|          48|2931|                3|                   10|        0|            0|          0|              0|               null|                   null|                   null|              0|            0|                  0|                0|               1|600 Good intent c...|    N None|42 HazMat detecti...|                  null|              null|                      null|            NNN None|               null|          null|                   null|                     null|       null|              null|                                  null|          null|            null|                null|       null|           null|                                null|                                    null|                              null|                                null|             null|         null|              null|                  null|                   null|                                  null|                              null|                                    null|                                        null|                               null|                6.0|      Treasure Island|POINT (-122.37735...|2014-04-22T19:54:...|2024-04-27T02:16:...|     TREASURE ISLAND|\n",
      "|       14039539|              0|140395390|        351 AVENUE H|2014-04-27T00:00:...|  141170224|2014-04-27T15:36:...|2014-04-27T15:42:...|2014-04-27T15:51:...|  94130|      B03|          48|2931|                3|                   10|        0|            0|          0|              0|               null|                   null|                   null|              0|            0|                  0|                0|               1|744 Detector acti...|    N None|      86 Investigate|                  null|              null|                      null| 599 Business office|               null|          null|                   null|                     null|       null|              null|                                  null|          null|            null|                null|       null|           null|                                null|                                    null|                              null|                                null|             null|         null|              null|                  null|                   null|                                  null|                              null|                                    null|                                        null|                               null|                6.0|      Treasure Island|POINT (-122.37153...|2014-04-27T15:51:...|2024-04-27T02:16:...|     TREASURE ISLAND|\n",
      "|       14031180|              0|140311800|                 SFO|2014-04-03T00:00:...|  140930067|2014-04-03T06:11:...|2014-04-03T06:15:...|2014-04-03T06:26:...|  94128|      B09|          44|6913|                2|                    5|        0|            0|          0|              0|               null|                   null|                   null|              0|            0|                  0|                0|               1|531 Smoke or odor...|    N None|    45 Remove hazard|                  null|              null|                      null|171 Airport passe...|               null|          null|                   null|                     null|       null|              null|                                  null|          null|            null|                null|       null|           null|                                null|                                    null|                              null|                                null|             null|         null|              null|                  null|                   null|                                  null|                              null|                                    null|                                        null|                               null|               null|                 null|POINT (-122.38416...|2014-04-15T00:00:...|2024-04-27T02:16:...|__HIVE_DEFAULT_PA...|\n",
      "|       14046224|              0|140462240|                null|2014-05-15T00:00:...|  141352418|2014-05-15T15:29:...|2014-05-15T15:42:...|2014-05-15T15:49:...|  94124|      B10|          42|6362|                2|                    9|        0|            0|          1|              4|               null|                   null|                   null|              0|            0|                  0|                0|               1|500 Service Call,...|    N None|70 Assistance, other|                  null|              null|                      null|    UUU Undetermined|               null|          null|                   null|                     null|       null|              null|                                  null|          null|            null|                null|       null|           null|                                null|                                    null|                              null|                                null|             null|         null|              null|                  null|                   null|                                  null|                              null|                                    null|                                        null|                               null|                9.0|              Portola|POINT (-122.40508...|2014-05-15T15:49:...|2024-04-27T02:16:...|__HIVE_DEFAULT_PA...|\n",
      "|       14058148|              0|140581480|             GATE 63|2014-06-17T00:00:...|  141683565|2014-06-17T22:12:...|2014-06-17T22:17:...|2014-06-17T22:25:...|  94128|      B99|          44|6913|                3|                    6|        0|            0|          0|              0|               null|                   null|                   null|              0|            0|                  0|                0|               1|462 Aircraft standby|    N None|          92 Standby|                  null|              null|                      null|974 Aircraft load...|               null|          null|                   null|                     null|       null|              null|                                  null|          null|            null|                null|       null|           null|                                null|                                    null|                              null|                                null|             null|         null|              null|                  null|                   null|                                  null|                              null|                                    null|                                        null|                               null|               null|                 null|POINT (-122.38416...|2014-06-17T22:25:...|2024-04-27T02:16:...|__HIVE_DEFAULT_PA...|\n",
      "|       14008067|              0|140080670| JULIAN AV / 15TH ST|2014-01-24T00:00:...|  140240053|2014-01-24T05:10:...|2014-01-24T05:17:...|2014-01-24T06:52:...|  94110|      B02|          36|5279|                2|                    9|        0|            0|          1|              2|                E36|                   4000|                    200|              0|            0|                  0|                0|               1|150 - Outside rub...|      None|     11 - Extinguish|      86 - Investigate|              null|               U - Unknown| 960 - Street, other|               null|          null|                   null|                     null|       null|              null|                                  null|          null|            null|                null|       null|           null|                                null|                                    null|                              null|                                null|             null|         null|              null|                  null|                   null|                                  null|                              null|                                    null|                                        null|                               null|                9.0|              Mission|POINT (-122.42105...|2016-05-12T14:23:...|2024-04-27T02:16:...|__HIVE_DEFAULT_PA...|\n",
      "|       14009941|              0|140099410|         34 MAPLE ST|2014-01-29T00:00:...|  140290252|2014-01-29T15:59:...|2014-01-29T16:06:...|2014-01-29T16:22:...|  94118|      B07|          10|4434|                3|                   10|        0|            0|          0|              0|                E32|                   null|                   null|              0|            0|                  0|                0|               1|745 - Alarm syste...|      None|63 - Restore fire...|      86 - Investigate|              null|                      null|419 - 1 or 2 fami...|               null|          null|                   null|                     null|       null|              null|                                  null|          null|            null|                null|       null|           null|                                null|                                    null|                              null|                                null|             null|         null|              null|                  null|                   null|                                  null|                              null|                                    null|                                        null|                               null|                2.0|     Presidio Heights|POINT (-122.45558...|2014-01-29T22:17:...|2024-04-27T02:16:...|__HIVE_DEFAULT_PA...|\n",
      "|       14021837|              0|140218370|   450 CHURCH STREET|2014-03-06T00:00:...|  140650017|2014-03-06T01:16:...|2014-03-06T01:20:...|2014-03-06T01:32:...|  94114|      B02|          06|0523|                3|                   11|        0|            0|          0|              0|               null|                   null|                   null|              0|            0|                  0|                0|               1|735 Alarm system ...|    N None|      86 Investigate|                  null|              null|                      null|213 Elementary sc...|               null|          null|                   null|                     null|       null|              null|                                  null|          null|            null|                null|       null|           null|                                null|                                    null|                              null|                                null|             null|         null|              null|                  null|                   null|                                  null|                              null|                                    null|                                        null|                               null|                8.0|  Castro/Upper Market|POINT (-122.42964...|2014-03-06T01:32:...|2024-04-27T02:16:...|__HIVE_DEFAULT_PA...|\n",
      "|       14021864|              0|140218640|   1 SF INTL AIRPORT|2014-03-06T00:00:...|  140650052|2014-03-06T06:07:...|2014-03-06T06:07:...|2014-03-06T06:08:...|  94128|      B09|          44|6913|                2|                    5|        0|            0|          0|              0|                 AP|                   null|                   null|              0|            0|                  0|                0|               1|744 - Detector ac...|      None|    86 - Investigate|                  null|              null|                      null|171 - Airport pas...|               null|          null|                   null|                     null|       null|              null|                                  null|          null|            null|                null|       null|           null|                                null|                                    null|                              null|                                null|             null|         null|              null|                  null|                   null|                                  null|                              null|                                    null|                                        null|                               null|               null|                 null|POINT (-122.38416...|2014-03-08T06:39:...|2024-04-27T02:16:...|__HIVE_DEFAULT_PA...|\n",
      "|       14021870|              0|140218700|   1 SF INTL AIRPORT|2014-03-06T00:00:...|  140650059|2014-03-06T06:42:...|2014-03-06T06:42:...|2014-03-06T06:42:...|  94128|      B09|          44|6913|                3|                    6|        0|            0|          0|              0|                 AP|                   null|                   null|              0|            0|                  0|                0|               1|734 - Heat detect...|      None|    86 - Investigate|                  null|              null|                      null|648 - Sanitation ...|               null|          null|                   null|                     null|       null|              null|                                  null|          null|            null|                null|       null|           null|                                null|                                    null|                              null|                                null|             null|         null|              null|                  null|                   null|                                  null|                              null|                                    null|                                        null|                               null|               null|                 null|POINT (-122.38416...|2014-03-06T06:47:...|2024-04-27T02:16:...|__HIVE_DEFAULT_PA...|\n",
      "|       14021922|              0|140219220|VERMONT ST/16TH S...|2014-03-06T00:00:...|  140650129|2014-03-06T10:04:...|2014-03-06T10:04:...|2014-03-06T10:11:...|  94109|      B02|          29|2422|                1|                    4|        0|            0|          0|              0|               null|                   null|                   null|              0|            0|                  0|                0|               1|300 Rescue, EMS i...|    N None|00 Action taken, ...|                  null|              null|                      null|   960 Street, other|               null|          null|                   null|                     null|       null|              null|                                  null|          null|            null|                null|       null|           null|                                null|                                    null|                              null|                                null|             null|         null|              null|                  null|                   null|                                  null|                              null|                                    null|                                        null|                               null|                6.0|              Mission|POINT (-122.40462...|2014-03-06T10:11:...|2024-04-27T02:16:...|__HIVE_DEFAULT_PA...|\n",
      "|       14022011|              0|140220110|        1090  AVENUE|2014-03-06T00:00:...|  140650248|2014-03-06T15:22:...|2014-03-06T15:31:...|2014-03-06T16:38:...|  94121|      B07|          34|7314|                1|                    2|        0|            0|          1|              2|               null|                   null|                   null|              0|            0|                  0|                0|               1|151 Outside rubbi...|    N None|      86 Investigate|                  null|              null|                      null|           937 Beach|               null|          null|                   null|                     null|       null|              null|                                  null|          null|            null|                null|       null|           null|                                null|                                    null|                              null|                                null|             null|         null|              null|                  null|                   null|                                  null|                              null|                                    null|                                        null|                               null|                1.0|       Outer Richmond|POINT (-122.51398...|2014-03-06T16:38:...|2024-04-27T02:16:...|__HIVE_DEFAULT_PA...|\n",
      "|       14022036|              0|140220360|   1 SF INTL AIRPORT|2014-03-05T00:00:...|  140650280|2014-03-05T22:58:...|2014-03-05T23:02:...|2014-03-05T23:20:...|  94128|      B09|          44|6913|                2|                    5|        0|            0|          0|              0|               null|                   null|                   null|              0|            0|                  0|                0|               1|555 Defective ele...|    N None|      86 Investigate|                  null|              null|                      null|882 Parking garag...|               null|          null|                   null|                     null|       null|              null|                                  null|          null|            null|                null|       null|           null|                                null|                                    null|                              null|                                null|             null|         null|              null|                  null|                   null|                                  null|                              null|                                    null|                                        null|                               null|               null|                 null|POINT (-122.38416...|2014-03-06T00:00:...|2024-04-27T02:16:...|__HIVE_DEFAULT_PA...|\n",
      "|       14022037|              0|140220370|   1 SF INTL AIRPORT|2014-03-05T00:00:...|  140650281|2014-03-05T23:50:...|2014-03-05T23:55:...|2014-03-06T00:10:...|  94128|      B09|          44|6913|                2|                   10|        0|            0|          0|              0|               null|                   null|                   null|              0|            0|                  0|                0|               1|412 Gas leak (nat...|    N None|80 Information, i...|                  null|              null|                      null|171 Airport passe...|               null|          null|                   null|                     null|       null|              null|                                  null|          null|            null|                null|       null|           null|                                null|                                    null|                              null|                                null|             null|         null|              null|                  null|                   null|                                  null|                              null|                                    null|                                        null|                               null|               null|                 null|POINT (-122.38416...|2014-03-06T00:10:...|2024-04-27T02:16:...|__HIVE_DEFAULT_PA...|\n",
      "|       14022041|              0|140220410|   1 SF INTL AIRPORT|2014-03-06T00:00:...|  140650285|2014-03-06T13:38:...|2014-03-06T13:41:...|2014-03-06T13:55:...|  94128|      B09|          44|6913|                2|                    5|        0|            0|          0|              0|               null|                   null|                   null|              0|            0|                  0|                0|               1|745 Alarm system ...|    N None|      86 Investigate|                  null|              null|                      null|882 Parking garag...|               null|          null|                   null|                     null|       null|              null|                                  null|          null|            null|                null|       null|           null|                                null|                                    null|                              null|                                null|             null|         null|              null|                  null|                   null|                                  null|                              null|                                    null|                                        null|                               null|               null|                 null|POINT (-122.38416...|2014-03-06T13:55:...|2024-04-27T02:16:...|__HIVE_DEFAULT_PA...|\n",
      "|       14022071|              0|140220710|    3251 20TH AVENUE|2014-03-06T00:00:...|  140650323|2014-03-06T18:29:...|2014-03-06T18:30:...|2014-03-06T18:34:...|  94111|      B08|          19|8861|                1|                    5|        0|            0|          0|              0|               null|                   null|                   null|              0|            0|                  0|                0|               1|        511 Lock-out|    N None|70 Assistance, other|                  null|              null|                      null|500 Mercantile, b...|               null|          null|                   null|                     null|       null|              null|                                  null|          null|            null|                null|       null|           null|                                null|                                    null|                              null|                                null|             null|         null|              null|                  null|                   null|                                  null|                              null|                                    null|                                        null|                               null|                7.0|            Lakeshore|POINT (-122.47682...|2014-03-06T18:34:...|2024-04-27T02:16:...|__HIVE_DEFAULT_PA...|\n",
      "+---------------+---------------+---------+--------------------+--------------------+-----------+--------------------+--------------------+--------------------+-------+---------+------------+----+-----------------+---------------------+---------+-------------+-----------+---------------+-------------------+-----------------------+-----------------------+---------------+-------------+-------------------+-----------------+----------------+--------------------+----------+--------------------+----------------------+------------------+--------------------------+--------------------+-------------------+--------------+-----------------------+-------------------------+-----------+------------------+--------------------------------------+--------------+----------------+--------------------+-----------+---------------+------------------------------------+----------------------------------------+----------------------------------+------------------------------------+-----------------+-------------+------------------+----------------------+-----------------------+--------------------------------------+----------------------------------+----------------------------------------+--------------------------------------------+-----------------------------------+-------------------+---------------------+--------------------+--------------------+--------------------+--------------------+\n",
      "only showing top 20 rows\n",
      "\n"
     ]
    }
   ],
   "source": [
    "inc_part.show()"
   ]
  },
  {
   "cell_type": "code",
   "execution_count": 7,
   "id": "20c38c71-6239-4990-a96e-a721c5c5521f",
   "metadata": {},
   "outputs": [
    {
     "name": "stdout",
     "output_type": "stream",
     "text": [
      "root\n",
      " |-- incident_number: decimal(10,0) (nullable = true)\n",
      " |-- exposure_number: decimal(10,0) (nullable = true)\n",
      " |-- id: decimal(10,0) (nullable = true)\n",
      " |-- address: string (nullable = true)\n",
      " |-- incident_date: string (nullable = true)\n",
      " |-- call_number: decimal(10,0) (nullable = true)\n",
      " |-- alarm_dttm: string (nullable = true)\n",
      " |-- arrival_dttm: string (nullable = true)\n",
      " |-- close_dttm: string (nullable = true)\n",
      " |-- zipcode: string (nullable = true)\n",
      " |-- battalion: string (nullable = true)\n",
      " |-- station_area: string (nullable = true)\n",
      " |-- box: string (nullable = true)\n",
      " |-- suppression_units: decimal(10,0) (nullable = true)\n",
      " |-- suppression_personnel: decimal(10,0) (nullable = true)\n",
      " |-- ems_units: decimal(10,0) (nullable = true)\n",
      " |-- ems_personnel: decimal(10,0) (nullable = true)\n",
      " |-- other_units: decimal(10,0) (nullable = true)\n",
      " |-- other_personnel: decimal(10,0) (nullable = true)\n",
      " |-- first_unit_on_scene: string (nullable = true)\n",
      " |-- estimated_property_loss: decimal(10,0) (nullable = true)\n",
      " |-- estimated_contents_loss: decimal(10,0) (nullable = true)\n",
      " |-- fire_fatalities: decimal(10,0) (nullable = true)\n",
      " |-- fire_injuries: decimal(10,0) (nullable = true)\n",
      " |-- civilian_fatalities: decimal(10,0) (nullable = true)\n",
      " |-- civilian_injuries: decimal(10,0) (nullable = true)\n",
      " |-- number_of_alarms: decimal(10,0) (nullable = true)\n",
      " |-- primary_situation: string (nullable = true)\n",
      " |-- mutual_aid: string (nullable = true)\n",
      " |-- action_taken_primary: string (nullable = true)\n",
      " |-- action_taken_secondary: string (nullable = true)\n",
      " |-- action_taken_other: string (nullable = true)\n",
      " |-- detector_alerted_occupants: string (nullable = true)\n",
      " |-- property_use: string (nullable = true)\n",
      " |-- area_of_fire_origin: string (nullable = true)\n",
      " |-- ignition_cause: string (nullable = true)\n",
      " |-- ignition_factor_primary: string (nullable = true)\n",
      " |-- ignition_factor_secondary: string (nullable = true)\n",
      " |-- heat_source: string (nullable = true)\n",
      " |-- item_first_ignited: string (nullable = true)\n",
      " |-- human_factors_associated_with_ignition: string (nullable = true)\n",
      " |-- structure_type: string (nullable = true)\n",
      " |-- structure_status: string (nullable = true)\n",
      " |-- floor_of_fire_origin: decimal(10,0) (nullable = true)\n",
      " |-- fire_spread: string (nullable = true)\n",
      " |-- no_flame_spread: string (nullable = true)\n",
      " |-- number_of_floors_with_minimum_damage: decimal(10,0) (nullable = true)\n",
      " |-- number_of_floors_with_significant_damage: decimal(10,0) (nullable = true)\n",
      " |-- number_of_floors_with_heavy_damage: decimal(10,0) (nullable = true)\n",
      " |-- number_of_floors_with_extreme_damage: decimal(10,0) (nullable = true)\n",
      " |-- detectors_present: string (nullable = true)\n",
      " |-- detector_type: string (nullable = true)\n",
      " |-- detector_operation: string (nullable = true)\n",
      " |-- detector_effectiveness: string (nullable = true)\n",
      " |-- detector_failure_reason: string (nullable = true)\n",
      " |-- automatic_extinguishing_system_present: string (nullable = true)\n",
      " |-- automatic_extinguishing_sytem_type: string (nullable = true)\n",
      " |-- automatic_extinguishing_sytem_perfomance: string (nullable = true)\n",
      " |-- automatic_extinguishing_sytem_failure_reason: string (nullable = true)\n",
      " |-- number_of_sprinkler_heads_operating: decimal(10,0) (nullable = true)\n",
      " |-- supervisor_district: string (nullable = true)\n",
      " |-- neighborhood_district: string (nullable = true)\n",
      " |-- point: string (nullable = true)\n",
      " |-- data_as_of: string (nullable = true)\n",
      " |-- data_loaded_at: string (nullable = true)\n",
      " |-- city: string (nullable = true)\n",
      "\n"
     ]
    }
   ],
   "source": [
    "inc_part.printSchema()"
   ]
  },
  {
   "cell_type": "markdown",
   "id": "60e05e6d-b953-4dd6-84ae-dbeac729dc76",
   "metadata": {},
   "source": [
    "# Feature selection"
   ]
  },
  {
   "cell_type": "code",
   "execution_count": 8,
   "id": "00984a8d-8516-47b6-891a-85711cb5f210",
   "metadata": {},
   "outputs": [],
   "source": [
    "import pyspark.sql.functions as F\n",
    "\n",
    "df = inc_part.select(features + [label])\n",
    "\n",
    "for col_name in ['primary_situation', 'action_taken_primary']:\n",
    "    df = df.withColumn(col_name, F.translate(col_name, \"'\", \"\"))"
   ]
  },
  {
   "cell_type": "code",
   "execution_count": 9,
   "id": "bdea0e86-6b90-4a83-af59-c09219b970b6",
   "metadata": {},
   "outputs": [
    {
     "name": "stdout",
     "output_type": "stream",
     "text": [
      "+---------------+--------------------+---------+-----------------+--------------------+---------------------+\n",
      "|incident_number|   primary_situation|ems_units|suppression_units|action_taken_primary|suppression_personnel|\n",
      "+---------------+--------------------+---------+-----------------+--------------------+---------------------+\n",
      "|       14031180|531 Smoke or odor...|        0|                2|    45 Remove hazard|                    5|\n",
      "|       14046224|500 Service Call,...|        0|                2|70 Assistance, other|                    9|\n",
      "|       14058148|462 Aircraft standby|        0|                3|          92 Standby|                    6|\n",
      "|       14008067|150 - Outside rub...|        0|                2|     11 - Extinguish|                    9|\n",
      "|       14009941|745 - Alarm syste...|        0|                3|63 - Restore fire...|                   10|\n",
      "|       14021837|735 Alarm system ...|        0|                3|      86 Investigate|                   11|\n",
      "|       14021864|744 - Detector ac...|        0|                2|    86 - Investigate|                    5|\n",
      "|       14021870|734 - Heat detect...|        0|                3|    86 - Investigate|                    6|\n",
      "|       14021922|300 Rescue, EMS i...|        0|                1|00 Action taken, ...|                    4|\n",
      "|       14022011|151 Outside rubbi...|        0|                1|      86 Investigate|                    2|\n",
      "|       14022036|555 Defective ele...|        0|                2|      86 Investigate|                    5|\n",
      "|       14022037|412 Gas leak (nat...|        0|                2|80 Information, i...|                   10|\n",
      "|       14022041|745 Alarm system ...|        0|                2|      86 Investigate|                    5|\n",
      "|       14022071|        511 Lock-out|        0|                1|70 Assistance, other|                    5|\n",
      "|       14022106|500 - Service Cal...|        0|                1|        92 - Standby|                    2|\n",
      "|       14022203|320 Emergency med...|        1|                1|30 Emergency medi...|                    4|\n",
      "|       14022257|353 Removal of vi...|        0|                2| 73 Provide manpower|                    5|\n",
      "|       14022264|600 - Good intent...|        0|                2|    86 - Investigate|                    5|\n",
      "|       14022287|353 Removal of vi...|        0|                2| 73 Provide manpower|                    5|\n",
      "|       14022323|120 Fire in mobil...|        0|                2|      86 Investigate|                    9|\n",
      "+---------------+--------------------+---------+-----------------+--------------------+---------------------+\n",
      "only showing top 20 rows\n",
      "\n"
     ]
    }
   ],
   "source": [
    "df.show()"
   ]
  },
  {
   "cell_type": "code",
   "execution_count": 10,
   "id": "27c00177-7c66-4341-9d9f-6ac1089889e6",
   "metadata": {},
   "outputs": [],
   "source": [
    "df = df.withColumn('incident_number', df['incident_number'].cast('string'))\n",
    "df = df.withColumn('ems_units', df['ems_units'].cast('integer'))\n",
    "df = df.withColumn('suppression_units', df['suppression_units'].cast('integer'))"
   ]
  },
  {
   "cell_type": "code",
   "execution_count": 11,
   "id": "df4ffa85-4bbf-496b-8669-3759985076a3",
   "metadata": {},
   "outputs": [],
   "source": [
    "df = df.dropna(subset=features + [label])"
   ]
  },
  {
   "cell_type": "code",
   "execution_count": 12,
   "id": "078657b6-8c1e-4898-a569-20f9e361e319",
   "metadata": {},
   "outputs": [],
   "source": [
    "from pyspark.sql.functions import col\n",
    "\n",
    "\n",
    "df = df.filter(col(label) > 0)"
   ]
  },
  {
   "cell_type": "code",
   "execution_count": 13,
   "id": "051e45fe-ef21-40dc-b132-471980463e17",
   "metadata": {},
   "outputs": [
    {
     "name": "stdout",
     "output_type": "stream",
     "text": [
      "+---------------+--------------------+---------+-----------------+--------------------+---------------------+\n",
      "|incident_number|   primary_situation|ems_units|suppression_units|action_taken_primary|suppression_personnel|\n",
      "+---------------+--------------------+---------+-----------------+--------------------+---------------------+\n",
      "|       14048364|650 Steam, other ...|        0|                2|70 Assistance, other|                    9|\n",
      "|       14048617|735 Alarm system ...|        0|                3|      86 Investigate|                   10|\n",
      "|       14052106|322 Motor vehicle...|        2|                1|31 Provide first ...|                    2|\n",
      "|       14052706|500 Service Call,...|        0|                1|70 Assistance, other|                    5|\n",
      "|       14070751|671 HazMat releas...|        3|               12|      86 Investigate|                   43|\n",
      "|       14076628|700 False alarm o...|        0|                2|00 Action taken, ...|                    9|\n",
      "|       14077756|        511 Lock-out|        0|                1|70 Assistance, other|                    4|\n",
      "|       14083536|611 Dispatched & ...|        1|                1|93 Cancelled en r...|                    4|\n",
      "|       19141397|322 Motor vehicle...|        2|                1|31 Provide first ...|                    4|\n",
      "|       19141880|324 Motor vehicle...|        1|                1|      86 Investigate|                    4|\n",
      "|       19147598|500 Service Call,...|        0|                5|      86 Investigate|                   18|\n",
      "|       19149000|311 Medical assis...|        2|                1|00 Action taken, ...|                    4|\n",
      "|       19153309|900 Special type ...|        0|                2|      86 Investigate|                    9|\n",
      "|       19153861|311 Medical assis...|        3|                4|32 Provide basic ...|                   13|\n",
      "|       19154961|500 Service Call,...|        3|                1|      86 Investigate|                    4|\n",
      "|       20003159|322 Motor vehicle...|        2|                1|30 Emergency medi...|                    4|\n",
      "|       20005162|311 Medical assis...|        2|                1| 73 Provide manpower|                    4|\n",
      "|       20011147|381 Rescue or EMS...|        3|                6|20 Search & rescu...|                   23|\n",
      "|       20014239|323 Motor vehicle...|        3|                2|70 Assistance, other|                    8|\n",
      "|       20014409|322 Motor vehicle...|        0|                1|70 Assistance, other|                    4|\n",
      "+---------------+--------------------+---------+-----------------+--------------------+---------------------+\n",
      "only showing top 20 rows\n",
      "\n"
     ]
    }
   ],
   "source": [
    "df.show()"
   ]
  },
  {
   "cell_type": "markdown",
   "id": "5a71bafe-c88b-47d2-accc-a9ca27f3a95d",
   "metadata": {},
   "source": [
    "# Feature extraction"
   ]
  },
  {
   "cell_type": "code",
   "execution_count": 14,
   "id": "1389febd-20de-4346-9d16-57dba4cf56bc",
   "metadata": {},
   "outputs": [
    {
     "name": "stdout",
     "output_type": "stream",
     "text": [
      "+--------------------+-----+--------------------+\n",
      "|            features|label|     indexedFeatures|\n",
      "+--------------------+-----+--------------------+\n",
      "|(497,[11,362,496]...|   17|(497,[11,362,496]...|\n",
      "|(497,[75,397,496]...|    4|(497,[75,397,496]...|\n",
      "|(497,[38,373,496]...|    8|(497,[38,373,496]...|\n",
      "|(497,[38,439,496]...|   10|(497,[38,439,496]...|\n",
      "|(497,[21,375,496]...|    4|(497,[21,375,496]...|\n",
      "|(497,[22,362,496]...|    4|(497,[22,362,496]...|\n",
      "|(497,[116,362,496...|    9|(497,[116,362,496...|\n",
      "|(497,[38,370,496]...|   33|(497,[38,370,496]...|\n",
      "|(497,[133,393,496...|   12|(497,[133,393,496...|\n",
      "|(497,[16,375,496]...|    3|(497,[16,375,496]...|\n",
      "|(497,[149,464,496...|   21|(497,[149,464,496...|\n",
      "|(497,[25,370,496]...|    4|(497,[25,370,496]...|\n",
      "|(497,[22,362,496]...|   10|(497,[22,362,496]...|\n",
      "|(497,[21,362,496]...|    4|(497,[21,362,496]...|\n",
      "|(497,[11,420,495,...|    4|(497,[11,420,495,...|\n",
      "|(497,[40,373,496]...|    4|(497,[40,373,496]...|\n",
      "|(497,[37,362,496]...|    4|(497,[37,362,496]...|\n",
      "|(497,[68,362,496]...|   11|(497,[68,362,496]...|\n",
      "|(497,[16,362,496]...|   16|(497,[16,362,496]...|\n",
      "|(497,[16,381,495,...|    4|(497,[16,381,495,...|\n",
      "+--------------------+-----+--------------------+\n",
      "only showing top 20 rows\n",
      "\n"
     ]
    }
   ],
   "source": [
    "from pyspark.ml.feature import StringIndexer, OneHotEncoder, VectorAssembler,VectorIndexer\n",
    "from pyspark.ml import Pipeline\n",
    "from pyspark.sql.functions import col\n",
    "\n",
    "indexers = [StringIndexer(inputCol=col_name, outputCol=f\"{col_name}_indexed\", handleInvalid=\"keep\") for col_name in ['primary_situation', 'action_taken_primary']]\n",
    "\n",
    "# Apply One-Hot Encoding to indexed categorical columns\n",
    "encoders = [OneHotEncoder(inputCol=indexer.getOutputCol(), outputCol=f\"{indexer.getOutputCol()}_encoded\") for indexer in indexers]\n",
    "\n",
    "# Assemble features into a single vector\n",
    "assembler = VectorAssembler(inputCols=[encoder.getOutputCol() for encoder in encoders] + ['ems_units', 'suppression_units'], outputCol=\"features\")\n",
    "\n",
    "# Create Pipeline\n",
    "pipeline = Pipeline(stages=indexers + encoders + [assembler])\n",
    "\n",
    "# Fit Pipeline and Transform Data\n",
    "model = pipeline.fit(df)\n",
    "transformed_data = model.transform(df)\n",
    "\n",
    "transformed_data = transformed_data.withColumnRenamed(label, 'label')\n",
    "\n",
    "# Select Features and Label Columns\n",
    "transformed_data = transformed_data.select([\"features\", \"label\"])\n",
    "\n",
    "# Automatically Identify Categorical Features and Index Them\n",
    "featureIndexer = VectorIndexer(inputCol=\"features\", outputCol=\"indexedFeatures\", maxCategories=4).fit(transformed_data)\n",
    "transformed_data = featureIndexer.transform(transformed_data)\n",
    "\n",
    "# Display the Output Spark DataFrame\n",
    "transformed_data.show()"
   ]
  },
  {
   "cell_type": "markdown",
   "id": "c4fd3df2-8f31-42ed-8f0f-7dfcb795a5e8",
   "metadata": {},
   "source": [
    "# Split the dataset"
   ]
  },
  {
   "cell_type": "code",
   "execution_count": 15,
   "id": "71ca00fb-a991-47d0-8d09-75e5604ed694",
   "metadata": {},
   "outputs": [
    {
     "data": {
      "text/plain": [
       "''"
      ]
     },
     "execution_count": 15,
     "metadata": {},
     "output_type": "execute_result"
    }
   ],
   "source": [
    "(train_data, test_data) = transformed_data.randomSplit([0.6, 0.4], seed=10)\n",
    "\n",
    "def run(command):\n",
    "    import os\n",
    "    return os.popen(\"cd ..\\n\" + command).read()\n",
    "\n",
    "train_data.select(\"features\", \"label\")\\\n",
    "    .coalesce(1)\\\n",
    "    .write\\\n",
    "    .mode(\"overwrite\")\\\n",
    "    .format(\"json\")\\\n",
    "    .save(\"project/data/train\")\n",
    "\n",
    "# Run it from the root directory of the repository\n",
    "run(\"hdfs dfs -cat project/data/train/*.json > data/train.json\")\n",
    "\n",
    "test_data.select(\"features\", \"label\")\\\n",
    "    .coalesce(1)\\\n",
    "    .write\\\n",
    "    .mode(\"overwrite\")\\\n",
    "    .format(\"json\")\\\n",
    "    .save(\"project/data/test\")\n",
    "\n",
    "# Run it from the root directory of the repository\n",
    "run(\"hdfs dfs -cat project/data/test/*.json > data/test.json\")"
   ]
  },
  {
   "cell_type": "code",
   "execution_count": 16,
   "id": "254955df-0b47-4eb4-8faf-d22d37f578a6",
   "metadata": {},
   "outputs": [
    {
     "name": "stdout",
     "output_type": "stream",
     "text": [
      "+--------------------+-----+--------------------+\n",
      "|            features|label|     indexedFeatures|\n",
      "+--------------------+-----+--------------------+\n",
      "|(497,[2,362,496],...|    4|(497,[2,362,496],...|\n",
      "|(497,[3,362,496],...|   10|(497,[3,362,496],...|\n",
      "|(497,[7,427,496],...|   11|(497,[7,427,496],...|\n",
      "|(497,[11,381,495,...|    4|(497,[11,381,495,...|\n",
      "|(497,[28,362,496]...|    4|(497,[28,362,496]...|\n",
      "|(497,[38,375,496]...|    4|(497,[38,375,496]...|\n",
      "|(497,[40,362,496]...|    4|(497,[40,362,496]...|\n",
      "|(497,[47,382,496]...|    4|(497,[47,382,496]...|\n",
      "|(497,[47,382,496]...|    9|(497,[47,382,496]...|\n",
      "|(497,[72,362,496]...|    6|(497,[72,362,496]...|\n",
      "|(497,[77,375,496]...|    4|(497,[77,375,496]...|\n",
      "|(497,[77,382,496]...|    4|(497,[77,382,496]...|\n",
      "|(497,[100,362,496...|   15|(497,[100,362,496...|\n",
      "|(497,[113,464,496...|    4|(497,[113,464,496...|\n",
      "|(497,[134,366,496...|    4|(497,[134,366,496...|\n",
      "|(497,[148,362,496...|    4|(497,[148,362,496...|\n",
      "|(497,[149,375,496...|   19|(497,[149,375,496...|\n",
      "|(497,[173,366,496...|    4|(497,[173,366,496...|\n",
      "|(497,[3,362,496],...|   35|(497,[3,362,496],...|\n",
      "|(497,[16,387,496]...|   15|(497,[16,387,496]...|\n",
      "+--------------------+-----+--------------------+\n",
      "only showing top 20 rows\n",
      "\n"
     ]
    }
   ],
   "source": [
    "train_data.show()"
   ]
  },
  {
   "cell_type": "markdown",
   "id": "12fecd52-189d-45af-841c-47819b311918",
   "metadata": {},
   "source": [
    "# First model"
   ]
  },
  {
   "cell_type": "markdown",
   "id": "6daffa79-5f41-4e78-aa1a-c914f8b3f1f5",
   "metadata": {},
   "source": [
    "## Build a model"
   ]
  },
  {
   "cell_type": "code",
   "execution_count": 17,
   "id": "9892ef1c-f7c4-4acd-8d7d-5630f0823c0c",
   "metadata": {},
   "outputs": [],
   "source": [
    "from pyspark.ml.regression import LinearRegression\n",
    "# Create Linear Regression Model\n",
    "lr = LinearRegression()\n",
    "\n",
    "# Fit the data to the pipeline stages\n",
    "model_lr = lr.fit(train_data)"
   ]
  },
  {
   "cell_type": "markdown",
   "id": "258b1396-77d4-4dd8-8777-d0e6fcbd629f",
   "metadata": {},
   "source": [
    "## Predict for test data"
   ]
  },
  {
   "cell_type": "code",
   "execution_count": 18,
   "id": "b9a0f1ff-a175-4e00-ac1b-a5476dd7dd19",
   "metadata": {},
   "outputs": [
    {
     "name": "stdout",
     "output_type": "stream",
     "text": [
      "+--------------------+-----+--------------------+------------------+\n",
      "|            features|label|     indexedFeatures|        prediction|\n",
      "+--------------------+-----+--------------------+------------------+\n",
      "|(497,[0,362,496],...|    9|(497,[0,362,496],...|  8.52459533956089|\n",
      "|(497,[0,362,496],...|    9|(497,[0,362,496],...|  8.52459533956089|\n",
      "|(497,[0,362,496],...|    9|(497,[0,362,496],...|  8.52459533956089|\n",
      "|(497,[0,362,496],...|   20|(497,[0,362,496],...|10.018928626098903|\n",
      "|(497,[0,370,496],...|    9|(497,[0,370,496],...| 8.245704267908641|\n",
      "|(497,[1,363,495,4...|    9|(497,[1,363,495,4...|11.103798927940547|\n",
      "|(497,[1,363,495,4...|   31|(497,[1,363,495,4...|14.590576596529246|\n",
      "|(497,[1,363,495,4...|   32|(497,[1,363,495,4...|15.088687692041919|\n",
      "|(497,[1,363,495,4...|   32|(497,[1,363,495,4...|15.088687692041919|\n",
      "|(497,[1,363,496],...|    4|(497,[1,363,496],...|10.016685189107111|\n",
      "|(497,[1,363,496],...|    4|(497,[1,363,496],...|10.016685189107111|\n",
      "|(497,[1,363,496],...|    9|(497,[1,363,496],...|10.514796284619782|\n",
      "|(497,[1,363,496],...|    9|(497,[1,363,496],...|10.514796284619782|\n",
      "|(497,[1,363,496],...|    9|(497,[1,363,496],...|10.514796284619782|\n",
      "|(497,[1,363,496],...|    9|(497,[1,363,496],...|10.514796284619782|\n",
      "|(497,[1,363,496],...|    9|(497,[1,363,496],...|10.514796284619782|\n",
      "|(497,[1,363,496],...|    9|(497,[1,363,496],...|10.514796284619782|\n",
      "|(497,[1,363,496],...|    9|(497,[1,363,496],...|10.514796284619782|\n",
      "|(497,[1,363,496],...|    9|(497,[1,363,496],...|10.514796284619782|\n",
      "|(497,[1,363,496],...|    9|(497,[1,363,496],...|10.514796284619782|\n",
      "+--------------------+-----+--------------------+------------------+\n",
      "only showing top 20 rows\n",
      "\n"
     ]
    }
   ],
   "source": [
    "predictions = model_lr.transform(test_data)\n",
    "predictions.show()"
   ]
  },
  {
   "cell_type": "markdown",
   "id": "32e97403-59a0-4ec4-b044-678ba6aa2b66",
   "metadata": {},
   "source": [
    "## Evaluate the model"
   ]
  },
  {
   "cell_type": "code",
   "execution_count": 19,
   "id": "c6b166ca-8b62-4995-adca-129021dd6d40",
   "metadata": {},
   "outputs": [
    {
     "name": "stdout",
     "output_type": "stream",
     "text": [
      "Root Mean Squared Error (RMSE) on test data = 20.372364171532542\n",
      "R^2 on test data = 0.03610669991162829\n"
     ]
    }
   ],
   "source": [
    "from pyspark.ml.evaluation import RegressionEvaluator \n",
    "\n",
    "# Evaluate the performance of the model\n",
    "evaluator1_rmse = RegressionEvaluator(labelCol=\"label\", predictionCol=\"prediction\", metricName=\"rmse\")\n",
    "evaluator1_r2 = RegressionEvaluator(labelCol=\"label\", predictionCol=\"prediction\", metricName=\"r2\")\n",
    "\n",
    "rmse = evaluator1_rmse.evaluate(predictions)\n",
    "r2 = evaluator1_r2.evaluate(predictions)\n",
    "\n",
    "print(\"Root Mean Squared Error (RMSE) on test data = {}\".format(rmse))\n",
    "print(\"R^2 on test data = {}\".format(r2))"
   ]
  },
  {
   "cell_type": "markdown",
   "id": "b6b0e075-c37c-492a-b894-2f64d4dea72b",
   "metadata": {},
   "source": [
    "## Hyperparameter optimization"
   ]
  },
  {
   "cell_type": "code",
   "execution_count": 20,
   "id": "7e04437d-2bf9-4803-83cc-b7ed17d311e4",
   "metadata": {},
   "outputs": [
    {
     "data": {
      "text/plain": [
       "[Param(parent='LinearRegression_c65222282cc4', name='aggregationDepth', doc='suggested depth for treeAggregate (>= 2).'),\n",
       " Param(parent='LinearRegression_c65222282cc4', name='elasticNetParam', doc='the ElasticNet mixing parameter, in range [0, 1]. For alpha = 0, the penalty is an L2 penalty. For alpha = 1, it is an L1 penalty.'),\n",
       " Param(parent='LinearRegression_c65222282cc4', name='epsilon', doc='The shape parameter to control the amount of robustness. Must be > 1.0. Only valid when loss is huber'),\n",
       " Param(parent='LinearRegression_c65222282cc4', name='featuresCol', doc='features column name.'),\n",
       " Param(parent='LinearRegression_c65222282cc4', name='fitIntercept', doc='whether to fit an intercept term.'),\n",
       " Param(parent='LinearRegression_c65222282cc4', name='labelCol', doc='label column name.'),\n",
       " Param(parent='LinearRegression_c65222282cc4', name='loss', doc='The loss function to be optimized. Supported options: squaredError, huber.'),\n",
       " Param(parent='LinearRegression_c65222282cc4', name='maxBlockSizeInMB', doc='maximum memory in MB for stacking input data into blocks. Data is stacked within partitions. If more than remaining data size in a partition then it is adjusted to the data size. Default 0.0 represents choosing optimal value, depends on specific algorithm. Must be >= 0.'),\n",
       " Param(parent='LinearRegression_c65222282cc4', name='maxIter', doc='max number of iterations (>= 0).'),\n",
       " Param(parent='LinearRegression_c65222282cc4', name='predictionCol', doc='prediction column name.'),\n",
       " Param(parent='LinearRegression_c65222282cc4', name='regParam', doc='regularization parameter (>= 0).'),\n",
       " Param(parent='LinearRegression_c65222282cc4', name='solver', doc='The solver algorithm for optimization. Supported options: auto, normal, l-bfgs.'),\n",
       " Param(parent='LinearRegression_c65222282cc4', name='standardization', doc='whether to standardize the training features before fitting the model.'),\n",
       " Param(parent='LinearRegression_c65222282cc4', name='tol', doc='the convergence tolerance for iterative algorithms (>= 0).'),\n",
       " Param(parent='LinearRegression_c65222282cc4', name='weightCol', doc='weight column name. If this is not set or empty, we treat all instance weights as 1.0.')]"
      ]
     },
     "execution_count": 20,
     "metadata": {},
     "output_type": "execute_result"
    }
   ],
   "source": [
    "model_lr.params"
   ]
  },
  {
   "cell_type": "code",
   "execution_count": 21,
   "id": "9f4388f9-db94-423c-879d-392c90041d95",
   "metadata": {},
   "outputs": [
    {
     "data": {
      "text/plain": [
       "LinearRegressionModel: uid=LinearRegression_c65222282cc4, numFeatures=497"
      ]
     },
     "execution_count": 21,
     "metadata": {},
     "output_type": "execute_result"
    }
   ],
   "source": [
    "from pyspark.ml.tuning import ParamGridBuilder, CrossValidator \n",
    "\n",
    "import numpy as np\n",
    "\n",
    "\n",
    "grid = ParamGridBuilder()\n",
    "grid = grid.addGrid(\n",
    "                    model_lr.aggregationDepth, [2, 3, 4])\\\n",
    "                    .addGrid(model_lr.regParam, np.logspace(1e-3,1e-1)\n",
    "                    )\\\n",
    "                    .build()\n",
    "\n",
    "cv = CrossValidator(estimator = lr, \n",
    "                    estimatorParamMaps = grid, \n",
    "                    evaluator = evaluator1_rmse,\n",
    "                    parallelism = 5,\n",
    "                    numFolds=3)\n",
    "\n",
    "cvModel = cv.fit(train_data)\n",
    "bestModel = cvModel.bestModel\n",
    "bestModel"
   ]
  },
  {
   "cell_type": "markdown",
   "id": "8a27e31c-959e-438c-bec0-1f109d7e2c15",
   "metadata": {},
   "source": [
    "## Best model 1\n"
   ]
  },
  {
   "cell_type": "code",
   "execution_count": 22,
   "id": "8d86fc18-eb29-4f03-bfef-ed3aa1daa4fa",
   "metadata": {},
   "outputs": [
    {
     "name": "stdout",
     "output_type": "stream",
     "text": [
      "{Param(parent='LinearRegression_c65222282cc4', name='elasticNetParam', doc='the ElasticNet mixing parameter, in range [0, 1]. For alpha = 0, the penalty is an L2 penalty. For alpha = 1, it is an L1 penalty.'): 0.0,\n",
      " Param(parent='LinearRegression_c65222282cc4', name='standardization', doc='whether to standardize the training features before fitting the model.'): True,\n",
      " Param(parent='LinearRegression_c65222282cc4', name='loss', doc='The loss function to be optimized. Supported options: squaredError, huber.'): 'squaredError',\n",
      " Param(parent='LinearRegression_c65222282cc4', name='solver', doc='The solver algorithm for optimization. Supported options: auto, normal, l-bfgs.'): 'auto',\n",
      " Param(parent='LinearRegression_c65222282cc4', name='maxIter', doc='max number of iterations (>= 0).'): 100,\n",
      " Param(parent='LinearRegression_c65222282cc4', name='aggregationDepth', doc='suggested depth for treeAggregate (>= 2).'): 2,\n",
      " Param(parent='LinearRegression_c65222282cc4', name='predictionCol', doc='prediction column name.'): 'prediction',\n",
      " Param(parent='LinearRegression_c65222282cc4', name='regParam', doc='regularization parameter (>= 0).'): 1.2589254117941673,\n",
      " Param(parent='LinearRegression_c65222282cc4', name='labelCol', doc='label column name.'): 'label',\n",
      " Param(parent='LinearRegression_c65222282cc4', name='maxBlockSizeInMB', doc='maximum memory in MB for stacking input data into blocks. Data is stacked within partitions. If more than remaining data size in a partition then it is adjusted to the data size. Default 0.0 represents choosing optimal value, depends on specific algorithm. Must be >= 0.'): 0.0,\n",
      " Param(parent='LinearRegression_c65222282cc4', name='tol', doc='the convergence tolerance for iterative algorithms (>= 0).'): 1e-06,\n",
      " Param(parent='LinearRegression_c65222282cc4', name='fitIntercept', doc='whether to fit an intercept term.'): True,\n",
      " Param(parent='LinearRegression_c65222282cc4', name='epsilon', doc='The shape parameter to control the amount of robustness. Must be > 1.0. Only valid when loss is huber'): 1.35,\n",
      " Param(parent='LinearRegression_c65222282cc4', name='featuresCol', doc='features column name.'): 'features'}\n"
     ]
    }
   ],
   "source": [
    "from pprint import pprint\n",
    "model1 = bestModel\n",
    "pprint(model1.extractParamMap())"
   ]
  },
  {
   "cell_type": "markdown",
   "id": "632f666a-f792-4b50-b38f-b39f9208ab25",
   "metadata": {},
   "source": [
    "## Save the model to HDFS"
   ]
  },
  {
   "cell_type": "code",
   "execution_count": 23,
   "id": "e562da25-53d1-46dc-ac5d-68a6e9041927",
   "metadata": {},
   "outputs": [
    {
     "data": {
      "text/plain": [
       "''"
      ]
     },
     "execution_count": 23,
     "metadata": {},
     "output_type": "execute_result"
    }
   ],
   "source": [
    "model1.write().overwrite().save(\"project/models/model1\")\n",
    "\n",
    "# Run it from root directory of the repository\n",
    "run(\"hdfs dfs -get project/models/model1 models/model1\")"
   ]
  },
  {
   "cell_type": "markdown",
   "id": "f0e9b220-54e1-49ce-802c-fc005d8f63c3",
   "metadata": {},
   "source": [
    "## Predict for test data using best model1"
   ]
  },
  {
   "cell_type": "code",
   "execution_count": 24,
   "id": "cf8a05de-dcae-4bb0-8cf1-de760a62e0fb",
   "metadata": {},
   "outputs": [
    {
     "name": "stdout",
     "output_type": "stream",
     "text": [
      "+--------------------+-----+--------------------+------------------+\n",
      "|            features|label|     indexedFeatures|        prediction|\n",
      "+--------------------+-----+--------------------+------------------+\n",
      "|(497,[1,363,496],...|    9|(497,[1,363,496],...|10.642992690662371|\n",
      "|(497,[1,363,496],...|   15|(497,[1,363,496],...|10.938201899747733|\n",
      "|(497,[6,363,495,4...|    4|(497,[6,363,495,4...| 8.761004467435267|\n",
      "|(497,[6,363,495,4...|    8|(497,[6,363,495,4...| 8.908609071977947|\n",
      "|(497,[6,363,495,4...|    9|(497,[6,363,495,4...| 8.908609071977947|\n",
      "|(497,[6,363,495,4...|    4|(497,[6,363,495,4...|10.880602176001172|\n",
      "|(497,[6,363,495,4...|    4|(497,[6,363,495,4...|13.000199884567078|\n",
      "|(497,[6,367,496],...|    4|(497,[6,367,496],...| 5.719503177107711|\n",
      "|(497,[6,369,496],...|    4|(497,[6,369,496],...|5.3802025203291635|\n",
      "|(497,[8,363,496],...|   14|(497,[8,363,496],...|11.303009122897032|\n",
      "|(497,[10,363,495,...|    4|(497,[10,363,495,...| 9.762526222360323|\n",
      "|(497,[10,369,496]...|    4|(497,[10,369,496]...| 4.262126566688314|\n",
      "|(497,[10,372,496]...|    4|(497,[10,372,496]...|3.3779706864131382|\n",
      "|(497,[10,374,495,...|    4|(497,[10,374,495,...| 7.732022168952641|\n",
      "|(497,[10,374,495,...|    9|(497,[10,374,495,...| 9.999224482061228|\n",
      "|(497,[10,374,496]...|    8|(497,[10,374,496]...|3.6404313563635107|\n",
      "|(497,[10,376,495,...|    4|(497,[10,376,495,...| 7.879467232672883|\n",
      "|(497,[10,386,495,...|   14|(497,[10,386,495,...|6.2658461734635456|\n",
      "|(497,[10,386,495,...|    4|(497,[10,386,495,...| 7.942630068401408|\n",
      "|(497,[10,386,495,...|   14|(497,[10,386,495,...|  8.38544388202945|\n",
      "+--------------------+-----+--------------------+------------------+\n",
      "only showing top 20 rows\n",
      "\n"
     ]
    }
   ],
   "source": [
    "predictions = model1.transform(test_data)\n",
    "predictions.show()"
   ]
  },
  {
   "cell_type": "code",
   "execution_count": 25,
   "id": "096936c5-a575-48b7-92d2-be22893e892c",
   "metadata": {},
   "outputs": [
    {
     "data": {
      "text/plain": [
       "''"
      ]
     },
     "execution_count": 25,
     "metadata": {},
     "output_type": "execute_result"
    }
   ],
   "source": [
    "predictions.select(\"label\", \"prediction\")\\\n",
    "    .coalesce(1)\\\n",
    "    .write\\\n",
    "    .mode(\"overwrite\")\\\n",
    "    .format(\"csv\")\\\n",
    "    .option(\"sep\", \",\")\\\n",
    "    .option(\"header\",\"true\")\\\n",
    "    .save(\"project/output/model1_predictions.csv\")\n",
    "\n",
    "# Run it from root directory of the repository\n",
    "run(\"hdfs dfs -cat project/output/model1_predictions.csv/*.csv > output/model1_predictions.csv\")"
   ]
  },
  {
   "cell_type": "markdown",
   "id": "89f9a43d-80ce-4ec1-930f-671a240673d9",
   "metadata": {},
   "source": [
    "## Evaluate the best model1"
   ]
  },
  {
   "cell_type": "code",
   "execution_count": 26,
   "id": "1d0cc0e6-7d0d-4030-a372-375e5e9b84f7",
   "metadata": {},
   "outputs": [
    {
     "name": "stdout",
     "output_type": "stream",
     "text": [
      "Root Mean Squared Error (RMSE) on test data = 20.516266655753885\n",
      "R^2 on test data = 0.04268242231368702\n"
     ]
    }
   ],
   "source": [
    "from pyspark.ml.evaluation import RegressionEvaluator \n",
    "\n",
    "# Evaluate the performance of the model\n",
    "evaluator1_rmse = RegressionEvaluator(labelCol=\"label\", predictionCol=\"prediction\", metricName=\"rmse\")\n",
    "evaluator1_r2 = RegressionEvaluator(labelCol=\"label\", predictionCol=\"prediction\", metricName=\"r2\")\n",
    "\n",
    "rmse1 = evaluator1_rmse.evaluate(predictions)\n",
    "r21 = evaluator1_r2.evaluate(predictions)\n",
    "\n",
    "print(\"Root Mean Squared Error (RMSE) on test data = {}\".format(rmse1))\n",
    "print(\"R^2 on test data = {}\".format(r21))"
   ]
  },
  {
   "cell_type": "markdown",
   "id": "5308587c-3e52-41c6-ba7d-494d53cc45b1",
   "metadata": {},
   "source": [
    "# Second model"
   ]
  },
  {
   "cell_type": "markdown",
   "id": "d929b5a0-a159-4c94-ae56-086d3cf52df0",
   "metadata": {},
   "source": [
    "## Build a model"
   ]
  },
  {
   "cell_type": "code",
   "execution_count": 27,
   "id": "55d8981a-e274-4ab7-9d03-fefdc068b51b",
   "metadata": {},
   "outputs": [],
   "source": [
    "from pyspark.ml.regression import RandomForestRegressor\n",
    "\n",
    "# Create Linear Regression Model\n",
    "rf = RandomForestRegressor()\n",
    "\n",
    "# Fit the data to the pipeline stages\n",
    "model_rf = rf.fit(train_data)"
   ]
  },
  {
   "cell_type": "markdown",
   "id": "7b1c9a67-fe61-49fe-898f-017df0c4006b",
   "metadata": {},
   "source": [
    "## Predict for test data"
   ]
  },
  {
   "cell_type": "code",
   "execution_count": 28,
   "id": "6cb95001-9d15-4da4-98df-2b87c0c39200",
   "metadata": {},
   "outputs": [
    {
     "name": "stdout",
     "output_type": "stream",
     "text": [
      "+--------------------+-----+--------------------+-----------------+\n",
      "|            features|label|     indexedFeatures|       prediction|\n",
      "+--------------------+-----+--------------------+-----------------+\n",
      "|(497,[83,367,495,...|    4|(497,[83,367,495,...|6.352705221534879|\n",
      "|(497,[2,362,496],...|    2|(497,[2,362,496],...| 7.07338840797094|\n",
      "|(497,[2,362,496],...|    3|(497,[2,362,496],...| 7.07338840797094|\n",
      "|(497,[2,362,496],...|    5|(497,[2,362,496],...|9.018125565483434|\n",
      "|(497,[2,362,496],...|    5|(497,[2,362,496],...|9.018125565483434|\n",
      "|(497,[2,362,496],...|    5|(497,[2,362,496],...|9.018125565483434|\n",
      "|(497,[2,362,496],...|    5|(497,[2,362,496],...|9.018125565483434|\n",
      "|(497,[2,362,496],...|    5|(497,[2,362,496],...|9.018125565483434|\n",
      "|(497,[2,362,496],...|    5|(497,[2,362,496],...|9.018125565483434|\n",
      "|(497,[2,362,496],...|    5|(497,[2,362,496],...|9.018125565483434|\n",
      "|(497,[2,362,496],...|    5|(497,[2,362,496],...|9.018125565483434|\n",
      "|(497,[2,362,496],...|    5|(497,[2,362,496],...|9.018125565483434|\n",
      "|(497,[2,362,496],...|    5|(497,[2,362,496],...|9.018125565483434|\n",
      "|(497,[2,362,496],...|    5|(497,[2,362,496],...|9.018125565483434|\n",
      "|(497,[2,362,496],...|    5|(497,[2,362,496],...|9.018125565483434|\n",
      "|(497,[2,362,496],...|    5|(497,[2,362,496],...|9.018125565483434|\n",
      "|(497,[2,362,496],...|    5|(497,[2,362,496],...|9.018125565483434|\n",
      "|(497,[2,362,496],...|    5|(497,[2,362,496],...|9.018125565483434|\n",
      "|(497,[2,362,496],...|    5|(497,[2,362,496],...|9.018125565483434|\n",
      "|(497,[2,362,496],...|    5|(497,[2,362,496],...|9.018125565483434|\n",
      "+--------------------+-----+--------------------+-----------------+\n",
      "only showing top 20 rows\n",
      "\n"
     ]
    }
   ],
   "source": [
    "predictions = model_rf.transform(test_data)\n",
    "predictions.show()"
   ]
  },
  {
   "cell_type": "markdown",
   "id": "6c94da6f-f913-45ec-a377-d9c42dacb075",
   "metadata": {},
   "source": [
    "## Evaluate the model"
   ]
  },
  {
   "cell_type": "code",
   "execution_count": 29,
   "id": "f3508997-af5a-4882-8fd6-8d0a5be07ccb",
   "metadata": {},
   "outputs": [
    {
     "name": "stdout",
     "output_type": "stream",
     "text": [
      "Root Mean Squared Error (RMSE) on test data = 18.242236066029225\n",
      "R^2 on test data = 0.15776669348737937\n"
     ]
    }
   ],
   "source": [
    "from pyspark.ml.evaluation import RegressionEvaluator \n",
    "\n",
    "# Evaluate the performance of the model\n",
    "evaluator2_rmse = RegressionEvaluator(labelCol=\"label\", predictionCol=\"prediction\", metricName=\"rmse\")\n",
    "evaluator2_r2 = RegressionEvaluator(labelCol=\"label\", predictionCol=\"prediction\", metricName=\"r2\")\n",
    "\n",
    "rmse2 = evaluator2_rmse.evaluate(predictions)\n",
    "r22 = evaluator2_r2.evaluate(predictions)\n",
    "\n",
    "print(\"Root Mean Squared Error (RMSE) on test data = {}\".format(rmse2))\n",
    "print(\"R^2 on test data = {}\".format(r22))"
   ]
  },
  {
   "cell_type": "markdown",
   "id": "943a2d06-39bd-4c71-b0cc-18a63d995949",
   "metadata": {},
   "source": [
    "## Hyperparameter optimization"
   ]
  },
  {
   "cell_type": "code",
   "execution_count": 30,
   "id": "b99e50b9-5090-45ed-bfa7-7ddca0706176",
   "metadata": {},
   "outputs": [
    {
     "data": {
      "text/plain": [
       "[Param(parent='RandomForestRegressor_44722a3fe7ea', name='bootstrap', doc='Whether bootstrap samples are used when building trees.'),\n",
       " Param(parent='RandomForestRegressor_44722a3fe7ea', name='cacheNodeIds', doc='If false, the algorithm will pass trees to executors to match instances with nodes. If true, the algorithm will cache node IDs for each instance. Caching can speed up training of deeper trees. Users can set how often should the cache be checkpointed or disable it by setting checkpointInterval.'),\n",
       " Param(parent='RandomForestRegressor_44722a3fe7ea', name='checkpointInterval', doc='set checkpoint interval (>= 1) or disable checkpoint (-1). E.g. 10 means that the cache will get checkpointed every 10 iterations. Note: this setting will be ignored if the checkpoint directory is not set in the SparkContext.'),\n",
       " Param(parent='RandomForestRegressor_44722a3fe7ea', name='featureSubsetStrategy', doc=\"The number of features to consider for splits at each tree node. Supported options: 'auto' (choose automatically for task: If numTrees == 1, set to 'all'. If numTrees > 1 (forest), set to 'sqrt' for classification and to 'onethird' for regression), 'all' (use all features), 'onethird' (use 1/3 of the features), 'sqrt' (use sqrt(number of features)), 'log2' (use log2(number of features)), 'n' (when n is in the range (0, 1.0], use n * number of features. When n is in the range (1, number of features), use n features). default = 'auto'\"),\n",
       " Param(parent='RandomForestRegressor_44722a3fe7ea', name='featuresCol', doc='features column name.'),\n",
       " Param(parent='RandomForestRegressor_44722a3fe7ea', name='impurity', doc='Criterion used for information gain calculation (case-insensitive). Supported options: variance'),\n",
       " Param(parent='RandomForestRegressor_44722a3fe7ea', name='labelCol', doc='label column name.'),\n",
       " Param(parent='RandomForestRegressor_44722a3fe7ea', name='leafCol', doc='Leaf indices column name. Predicted leaf index of each instance in each tree by preorder.'),\n",
       " Param(parent='RandomForestRegressor_44722a3fe7ea', name='maxBins', doc='Max number of bins for discretizing continuous features.  Must be >=2 and >= number of categories for any categorical feature.'),\n",
       " Param(parent='RandomForestRegressor_44722a3fe7ea', name='maxDepth', doc='Maximum depth of the tree. (>= 0) E.g., depth 0 means 1 leaf node; depth 1 means 1 internal node + 2 leaf nodes. Must be in range [0, 30].'),\n",
       " Param(parent='RandomForestRegressor_44722a3fe7ea', name='maxMemoryInMB', doc='Maximum memory in MB allocated to histogram aggregation. If too small, then 1 node will be split per iteration, and its aggregates may exceed this size.'),\n",
       " Param(parent='RandomForestRegressor_44722a3fe7ea', name='minInfoGain', doc='Minimum information gain for a split to be considered at a tree node.'),\n",
       " Param(parent='RandomForestRegressor_44722a3fe7ea', name='minInstancesPerNode', doc='Minimum number of instances each child must have after split. If a split causes the left or right child to have fewer than minInstancesPerNode, the split will be discarded as invalid. Should be >= 1.'),\n",
       " Param(parent='RandomForestRegressor_44722a3fe7ea', name='minWeightFractionPerNode', doc='Minimum fraction of the weighted sample count that each child must have after split. If a split causes the fraction of the total weight in the left or right child to be less than minWeightFractionPerNode, the split will be discarded as invalid. Should be in interval [0.0, 0.5).'),\n",
       " Param(parent='RandomForestRegressor_44722a3fe7ea', name='numTrees', doc='Number of trees to train (>= 1).'),\n",
       " Param(parent='RandomForestRegressor_44722a3fe7ea', name='predictionCol', doc='prediction column name.'),\n",
       " Param(parent='RandomForestRegressor_44722a3fe7ea', name='seed', doc='random seed.'),\n",
       " Param(parent='RandomForestRegressor_44722a3fe7ea', name='subsamplingRate', doc='Fraction of the training data used for learning each decision tree, in range (0, 1].'),\n",
       " Param(parent='RandomForestRegressor_44722a3fe7ea', name='weightCol', doc='weight column name. If this is not set or empty, we treat all instance weights as 1.0.')]"
      ]
     },
     "execution_count": 30,
     "metadata": {},
     "output_type": "execute_result"
    }
   ],
   "source": [
    "model_rf.params"
   ]
  },
  {
   "cell_type": "code",
   "execution_count": 31,
   "id": "5dea6a22-9f7a-483b-818e-0b4e62f723e3",
   "metadata": {},
   "outputs": [
    {
     "data": {
      "text/plain": [
       "RandomForestRegressionModel: uid=RandomForestRegressor_44722a3fe7ea, numTrees=10, numFeatures=497"
      ]
     },
     "execution_count": 31,
     "metadata": {},
     "output_type": "execute_result"
    }
   ],
   "source": [
    "from pyspark.ml.tuning import ParamGridBuilder, CrossValidator \n",
    "\n",
    "import numpy as np\n",
    "\n",
    "grid = ParamGridBuilder() \\\n",
    "    .addGrid(rf.maxDepth, [2, 5]) \\\n",
    "    .addGrid(rf.numTrees, [5, 10]) \\\n",
    "    .build()\n",
    "\n",
    "cv = CrossValidator(estimator = rf, \n",
    "                    estimatorParamMaps = grid, \n",
    "                    evaluator = evaluator2_rmse,\n",
    "                    parallelism = 5,\n",
    "                    numFolds=3)\n",
    "\n",
    "cvModel = cv.fit(train_data)\n",
    "bestModel = cvModel.bestModel\n",
    "bestModel"
   ]
  },
  {
   "cell_type": "markdown",
   "id": "1524320f-8764-4ed4-b8ff-9d0a43b2ee29",
   "metadata": {},
   "source": [
    "## Best model 2\n"
   ]
  },
  {
   "cell_type": "code",
   "execution_count": 32,
   "id": "ccafef7f-5a51-4370-8572-447f06b92248",
   "metadata": {},
   "outputs": [
    {
     "name": "stdout",
     "output_type": "stream",
     "text": [
      "{Param(parent='RandomForestRegressor_44722a3fe7ea', name='seed', doc='random seed.'): -2270744963801036121,\n",
      " Param(parent='RandomForestRegressor_44722a3fe7ea', name='subsamplingRate', doc='Fraction of the training data used for learning each decision tree, in range (0, 1].'): 1.0,\n",
      " Param(parent='RandomForestRegressor_44722a3fe7ea', name='predictionCol', doc='prediction column name.'): 'prediction',\n",
      " Param(parent='RandomForestRegressor_44722a3fe7ea', name='maxDepth', doc='Maximum depth of the tree. (>= 0) E.g., depth 0 means 1 leaf node; depth 1 means 1 internal node + 2 leaf nodes. Must be in range [0, 30].'): 5,\n",
      " Param(parent='RandomForestRegressor_44722a3fe7ea', name='maxBins', doc='Max number of bins for discretizing continuous features.  Must be >=2 and >= number of categories for any categorical feature.'): 32,\n",
      " Param(parent='RandomForestRegressor_44722a3fe7ea', name='minInfoGain', doc='Minimum information gain for a split to be considered at a tree node.'): 0.0,\n",
      " Param(parent='RandomForestRegressor_44722a3fe7ea', name='minWeightFractionPerNode', doc='Minimum fraction of the weighted sample count that each child must have after split. If a split causes the fraction of the total weight in the left or right child to be less than minWeightFractionPerNode, the split will be discarded as invalid. Should be in interval [0.0, 0.5).'): 0.0,\n",
      " Param(parent='RandomForestRegressor_44722a3fe7ea', name='maxMemoryInMB', doc='Maximum memory in MB allocated to histogram aggregation. If too small, then 1 node will be split per iteration, and its aggregates may exceed this size.'): 256,\n",
      " Param(parent='RandomForestRegressor_44722a3fe7ea', name='numTrees', doc='Number of trees to train (>= 1).'): 10,\n",
      " Param(parent='RandomForestRegressor_44722a3fe7ea', name='minInstancesPerNode', doc='Minimum number of instances each child must have after split. If a split causes the left or right child to have fewer than minInstancesPerNode, the split will be discarded as invalid. Should be >= 1.'): 1,\n",
      " Param(parent='RandomForestRegressor_44722a3fe7ea', name='leafCol', doc='Leaf indices column name. Predicted leaf index of each instance in each tree by preorder.'): '',\n",
      " Param(parent='RandomForestRegressor_44722a3fe7ea', name='checkpointInterval', doc='set checkpoint interval (>= 1) or disable checkpoint (-1). E.g. 10 means that the cache will get checkpointed every 10 iterations. Note: this setting will be ignored if the checkpoint directory is not set in the SparkContext.'): 10,\n",
      " Param(parent='RandomForestRegressor_44722a3fe7ea', name='labelCol', doc='label column name.'): 'label',\n",
      " Param(parent='RandomForestRegressor_44722a3fe7ea', name='bootstrap', doc='Whether bootstrap samples are used when building trees.'): True,\n",
      " Param(parent='RandomForestRegressor_44722a3fe7ea', name='featureSubsetStrategy', doc=\"The number of features to consider for splits at each tree node. Supported options: 'auto' (choose automatically for task: If numTrees == 1, set to 'all'. If numTrees > 1 (forest), set to 'sqrt' for classification and to 'onethird' for regression), 'all' (use all features), 'onethird' (use 1/3 of the features), 'sqrt' (use sqrt(number of features)), 'log2' (use log2(number of features)), 'n' (when n is in the range (0, 1.0], use n * number of features. When n is in the range (1, number of features), use n features). default = 'auto'\"): 'auto',\n",
      " Param(parent='RandomForestRegressor_44722a3fe7ea', name='cacheNodeIds', doc='If false, the algorithm will pass trees to executors to match instances with nodes. If true, the algorithm will cache node IDs for each instance. Caching can speed up training of deeper trees. Users can set how often should the cache be checkpointed or disable it by setting checkpointInterval.'): False,\n",
      " Param(parent='RandomForestRegressor_44722a3fe7ea', name='featuresCol', doc='features column name.'): 'features',\n",
      " Param(parent='RandomForestRegressor_44722a3fe7ea', name='impurity', doc='Criterion used for information gain calculation (case-insensitive). Supported options: variance'): 'variance'}\n"
     ]
    }
   ],
   "source": [
    "from pprint import pprint\n",
    "model2 = bestModel\n",
    "pprint(model2.extractParamMap())"
   ]
  },
  {
   "cell_type": "markdown",
   "id": "336a3f34-cd0b-4e7e-a0ff-8670bee1e2ef",
   "metadata": {},
   "source": [
    "## Save the model to HDFS"
   ]
  },
  {
   "cell_type": "code",
   "execution_count": 33,
   "id": "098bb094-67c3-4a8b-a52a-95a1f7c7bc74",
   "metadata": {},
   "outputs": [
    {
     "data": {
      "text/plain": [
       "''"
      ]
     },
     "execution_count": 33,
     "metadata": {},
     "output_type": "execute_result"
    }
   ],
   "source": [
    "model2.write().overwrite().save(\"project/models/model2\")\n",
    "\n",
    "# Run it from root directory of the repository\n",
    "run(\"hdfs dfs -get project/models/model2 models/model2\")"
   ]
  },
  {
   "cell_type": "markdown",
   "id": "2220eee3-99d3-44cc-82ab-b941fd5e5e7c",
   "metadata": {},
   "source": [
    "## Predict for test data using best model2"
   ]
  },
  {
   "cell_type": "code",
   "execution_count": 34,
   "id": "53789d15-33a1-43b2-8e8e-df7627df5de1",
   "metadata": {},
   "outputs": [
    {
     "name": "stdout",
     "output_type": "stream",
     "text": [
      "+--------------------+-----+--------------------+------------------+\n",
      "|            features|label|     indexedFeatures|        prediction|\n",
      "+--------------------+-----+--------------------+------------------+\n",
      "|(497,[2,362,496],...|    4|(497,[2,362,496],...| 7.568877859741323|\n",
      "|(497,[11,375,496]...|    4|(497,[11,375,496]...|5.7578213608067745|\n",
      "|(497,[14,362,496]...|   11|(497,[14,362,496]...| 9.270415997797958|\n",
      "|(497,[14,362,496]...|   12|(497,[14,362,496]...| 9.270415997797958|\n",
      "|(497,[16,362,496]...|   16|(497,[16,362,496]...| 9.104709247332405|\n",
      "|(497,[16,375,496]...|    3|(497,[16,375,496]...|5.7578213608067745|\n",
      "|(497,[16,381,495,...|    4|(497,[16,381,495,...| 6.265570125944789|\n",
      "|(497,[16,382,496]...|    4|(497,[16,382,496]...|5.7578213608067745|\n",
      "|(497,[16,431,495,...|    4|(497,[16,431,495,...| 6.265570125944789|\n",
      "|(497,[21,362,496]...|    4|(497,[21,362,496]...| 6.124233606336789|\n",
      "|(497,[21,362,496]...|   10|(497,[21,362,496]...| 9.104709247332405|\n",
      "|(497,[21,362,496]...|   11|(497,[21,362,496]...| 9.104709247332405|\n",
      "|(497,[22,362,496]...|   10|(497,[22,362,496]...| 9.766394388097606|\n",
      "|(497,[25,362,496]...|   10|(497,[25,362,496]...| 9.104709247332405|\n",
      "|(497,[25,370,496]...|    4|(497,[25,370,496]...|5.7578213608067745|\n",
      "|(497,[28,377,495,...|    4|(497,[28,377,495,...| 6.265570125944789|\n",
      "|(497,[28,382,496]...|    6|(497,[28,382,496]...| 8.583452851339171|\n",
      "|(497,[33,366,496]...|   30|(497,[33,366,496]...|30.807479954310423|\n",
      "|(497,[37,362,496]...|    4|(497,[37,362,496]...| 6.124233606336789|\n",
      "|(497,[38,370,496]...|    4|(497,[38,370,496]...|5.7578213608067745|\n",
      "+--------------------+-----+--------------------+------------------+\n",
      "only showing top 20 rows\n",
      "\n"
     ]
    }
   ],
   "source": [
    "predictions = model2.transform(test_data)\n",
    "predictions.show()"
   ]
  },
  {
   "cell_type": "code",
   "execution_count": 35,
   "id": "52df5365-5d86-407f-b71a-878fff80b152",
   "metadata": {},
   "outputs": [
    {
     "data": {
      "text/plain": [
       "''"
      ]
     },
     "execution_count": 35,
     "metadata": {},
     "output_type": "execute_result"
    }
   ],
   "source": [
    "predictions.select(\"label\", \"prediction\")\\\n",
    "    .coalesce(1)\\\n",
    "    .write\\\n",
    "    .mode(\"overwrite\")\\\n",
    "    .format(\"csv\")\\\n",
    "    .option(\"sep\", \",\")\\\n",
    "    .option(\"header\",\"true\")\\\n",
    "    .save(\"project/output/model2_predictions.csv\")\n",
    "\n",
    "# Run it from root directory of the repository\n",
    "run(\"hdfs dfs -cat project/output/model2_predictions.csv/*.csv > output/model2_predictions.csv\")"
   ]
  },
  {
   "cell_type": "markdown",
   "id": "64f9e394-a65a-4cb3-b9c8-1036fd3a443a",
   "metadata": {},
   "source": [
    "## Evaluate the best model2"
   ]
  },
  {
   "cell_type": "code",
   "execution_count": 36,
   "id": "2e83b832-0088-4e95-95fc-768bc13d70ee",
   "metadata": {},
   "outputs": [
    {
     "name": "stdout",
     "output_type": "stream",
     "text": [
      "Root Mean Squared Error (RMSE) on test data = 22.852229176063442\n",
      "R^2 on test data = 0.18150011377917763\n"
     ]
    }
   ],
   "source": [
    "from pyspark.ml.evaluation import RegressionEvaluator \n",
    "\n",
    "# Evaluate the performance of the model\n",
    "evaluator2_rmse = RegressionEvaluator(labelCol=\"label\", predictionCol=\"prediction\", metricName=\"rmse\")\n",
    "evaluator2_r2 = RegressionEvaluator(labelCol=\"label\", predictionCol=\"prediction\", metricName=\"r2\")\n",
    "\n",
    "rmse2 = evaluator2_rmse.evaluate(predictions)\n",
    "r22 = evaluator2_r2.evaluate(predictions)\n",
    "\n",
    "print(\"Root Mean Squared Error (RMSE) on test data = {}\".format(rmse2))\n",
    "print(\"R^2 on test data = {}\".format(r22))"
   ]
  },
  {
   "cell_type": "markdown",
   "id": "22bd7b48-f536-495a-ac38-90ea1b9014af",
   "metadata": {},
   "source": [
    "# Compare best models"
   ]
  },
  {
   "cell_type": "code",
   "execution_count": 37,
   "id": "8b91f3c3-50ca-4ce1-9dfa-dba7449fbc35",
   "metadata": {},
   "outputs": [
    {
     "name": "stdout",
     "output_type": "stream",
     "text": [
      "+-------------------------------------------------------------------------------------------------+------------------+-------------------+\n",
      "|model                                                                                            |RMSE              |R2                 |\n",
      "+-------------------------------------------------------------------------------------------------+------------------+-------------------+\n",
      "|LinearRegressionModel: uid=LinearRegression_c65222282cc4, numFeatures=497                        |20.516266655753885|0.04268242231368702|\n",
      "|RandomForestRegressionModel: uid=RandomForestRegressor_44722a3fe7ea, numTrees=10, numFeatures=497|22.852229176063442|0.18150011377917763|\n",
      "+-------------------------------------------------------------------------------------------------+------------------+-------------------+\n",
      "\n"
     ]
    }
   ],
   "source": [
    "models = [[str(model1),rmse1, r21], [str(model2),rmse2, r22]]\n",
    "\n",
    "df = spark.createDataFrame(models, [\"model\", \"RMSE\", \"R2\"])\n",
    "df.show(truncate=False)"
   ]
  },
  {
   "cell_type": "code",
   "execution_count": 38,
   "id": "e008d30b-9489-44a2-84a0-95bcd9608319",
   "metadata": {},
   "outputs": [
    {
     "data": {
      "text/plain": [
       "''"
      ]
     },
     "execution_count": 38,
     "metadata": {},
     "output_type": "execute_result"
    }
   ],
   "source": [
    "df.coalesce(1)\\\n",
    "    .write\\\n",
    "    .mode(\"overwrite\")\\\n",
    "    .format(\"csv\")\\\n",
    "    .option(\"sep\", \",\")\\\n",
    "    .option(\"header\",\"true\")\\\n",
    "    .save(\"project/output/evaluation.csv\")\n",
    "\n",
    "# Run it from root directory of the repository\n",
    "run(\"hdfs dfs -cat project/output/evaluation.csv/*.csv > output/evaluation.csv\")"
   ]
  },
  {
   "cell_type": "code",
   "execution_count": null,
   "id": "1dc86ef1-49d9-4c37-b114-d0e73c27b13d",
   "metadata": {},
   "outputs": [],
   "source": []
  },
  {
   "cell_type": "code",
   "execution_count": null,
   "id": "c7a12cc1-e68d-4787-8c4d-263fca53687f",
   "metadata": {},
   "outputs": [],
   "source": []
  }
 ],
 "metadata": {
  "kernelspec": {
   "display_name": "Pyspark 3",
   "language": "python",
   "name": "python3"
  },
  "language_info": {
   "codemirror_mode": {
    "name": "ipython",
    "version": 3
   },
   "file_extension": ".py",
   "mimetype": "text/x-python",
   "name": "python",
   "nbconvert_exporter": "python",
   "pygments_lexer": "ipython3",
   "version": "3.6.8"
  },
  "toc-autonumbering": true,
  "toc-showtags": false
 },
 "nbformat": 4,
 "nbformat_minor": 5
}
